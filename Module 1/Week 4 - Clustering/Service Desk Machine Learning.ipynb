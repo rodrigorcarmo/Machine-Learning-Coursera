{
 "cells": [
  {
   "cell_type": "code",
   "execution_count": 1,
   "metadata": {
    "collapsed": true
   },
   "outputs": [],
   "source": [
    "import graphlab\n",
    "import xlrd\n",
    "import pandas"
   ]
  },
  {
   "cell_type": "markdown",
   "metadata": {},
   "source": [
    "#Abre o arquivo Excel usando Pandas\n",
    "##Necessário colocar a string no formato u' ' pois assim caracteres unicode são automaticamente convertidos, como a acentuação"
   ]
  },
  {
   "cell_type": "code",
   "execution_count": 2,
   "metadata": {
    "collapsed": false
   },
   "outputs": [],
   "source": [
    "data_ml = pandas.read_excel(u'Pesquisa de Satisfação.xls',sheetname=u'Analítico')"
   ]
  },
  {
   "cell_type": "markdown",
   "metadata": {},
   "source": [
    "##Imprime as colunas e remove aquela que não traz informação útil"
   ]
  },
  {
   "cell_type": "code",
   "execution_count": 3,
   "metadata": {
    "collapsed": false
   },
   "outputs": [
    {
     "name": "stdout",
     "output_type": "stream",
     "text": [
      "Index([       u'Unnamed: 0',           u'Chamado',             u'Grupo',\n",
      "                u'Analista',       u'Solicitante',          u'Pergunta',\n",
      "                u'Resposta',  u'Data de Abertura', u'Data de Resolução',\n",
      "              u'Comentário'],\n",
      "      dtype='object')\n",
      "Index([          u'Chamado',             u'Grupo',          u'Analista',\n",
      "             u'Solicitante',          u'Pergunta',          u'Resposta',\n",
      "        u'Data de Abertura', u'Data de Resolução',        u'Comentário'],\n",
      "      dtype='object')\n"
     ]
    }
   ],
   "source": [
    "print data_ml.columns\n",
    "del data_ml['Unnamed: 0']\n",
    "print data_ml.columns"
   ]
  },
  {
   "cell_type": "markdown",
   "metadata": {},
   "source": [
    "##Removendo valores nulos ou que podem vir a trazer problemas na hora da análise"
   ]
  },
  {
   "cell_type": "code",
   "execution_count": 4,
   "metadata": {
    "collapsed": false
   },
   "outputs": [],
   "source": [
    "data_ml.dropna(subset=[u'Comentário'],inplace=True) #Remove linhas que possuem valores nulos\n",
    "data_ml = data_ml.replace('\\n', ' ', regex = True) #Substitui quebra de linha por espaço em branco\n",
    "data_ml.drop_duplicates(subset=[u'Comentário'],inplace=True) #Remove duplicatas"
   ]
  },
  {
   "cell_type": "code",
   "execution_count": 5,
   "metadata": {
    "collapsed": false
   },
   "outputs": [],
   "source": [
    "data_ml.to_csv('DataML.csv',encoding='utf8')"
   ]
  },
  {
   "cell_type": "markdown",
   "metadata": {},
   "source": [
    "##Usa o graphlab apenas para ver se consegue-se obter valores úteis na análise"
   ]
  },
  {
   "cell_type": "code",
   "execution_count": 6,
   "metadata": {
    "collapsed": false
   },
   "outputs": [
    {
     "name": "stderr",
     "output_type": "stream",
     "text": [
      "2016-04-07 15:50:41,549 [INFO] graphlab.cython.cy_server, 176: GraphLab Create v1.8.4 started. Logging: C:\\Users\\RODRIG~1.CAR\\AppData\\Local\\Temp\\graphlab_server_1460055040.log.0\n"
     ]
    },
    {
     "data": {
      "text/html": [
       "<pre>Finished parsing file C:\\Users\\rodrigo.carmo\\IPython\\Machine Learning Coursera\\Module 1\\Week 4 - Clustering\\DataML.csv</pre>"
      ],
      "text/plain": [
       "Finished parsing file C:\\Users\\rodrigo.carmo\\IPython\\Machine Learning Coursera\\Module 1\\Week 4 - Clustering\\DataML.csv"
      ]
     },
     "metadata": {},
     "output_type": "display_data"
    },
    {
     "data": {
      "text/html": [
       "<pre>Parsing completed. Parsed 100 lines in 0.075072 secs.</pre>"
      ],
      "text/plain": [
       "Parsing completed. Parsed 100 lines in 0.075072 secs."
      ]
     },
     "metadata": {},
     "output_type": "display_data"
    },
    {
     "name": "stdout",
     "output_type": "stream",
     "text": [
      "This non-commercial license of GraphLab Create is assigned to rodrigorcarmo87@gmail.com and will expire on March 14, 2017. For commercial licensing options, visit https://dato.com/buy/.\n",
      "------------------------------------------------------"
     ]
    },
    {
     "data": {
      "text/html": [
       "<pre>Finished parsing file C:\\Users\\rodrigo.carmo\\IPython\\Machine Learning Coursera\\Module 1\\Week 4 - Clustering\\DataML.csv</pre>"
      ],
      "text/plain": [
       "Finished parsing file C:\\Users\\rodrigo.carmo\\IPython\\Machine Learning Coursera\\Module 1\\Week 4 - Clustering\\DataML.csv"
      ]
     },
     "metadata": {},
     "output_type": "display_data"
    },
    {
     "data": {
      "text/html": [
       "<pre>Parsing completed. Parsed 1417 lines in 0.038035 secs.</pre>"
      ],
      "text/plain": [
       "Parsing completed. Parsed 1417 lines in 0.038035 secs."
      ]
     },
     "metadata": {},
     "output_type": "display_data"
    },
    {
     "name": "stdout",
     "output_type": "stream",
     "text": [
      "\n",
      "Inferred types from first line of file as \n",
      "column_type_hints=[long,long,str,str,str,str,str,str,str,str]\n",
      "If parsing fails due to incorrect types, you can correct\n",
      "the inferred type list above and pass it to read_csv in\n",
      "the column_type_hints argument\n",
      "------------------------------------------------------\n"
     ]
    }
   ],
   "source": [
    "ml = graphlab.SFrame.read_csv('DataML.csv')"
   ]
  },
  {
   "cell_type": "markdown",
   "metadata": {},
   "source": [
    "##Remove a coluna de índices"
   ]
  },
  {
   "cell_type": "code",
   "execution_count": 7,
   "metadata": {
    "collapsed": false
   },
   "outputs": [
    {
     "data": {
      "text/html": [
       "<div style=\"max-height:1000px;max-width:1500px;overflow:auto;\"><table frame=\"box\" rules=\"cols\">\n",
       "    <tr>\n",
       "        <th style=\"padding-left: 1em; padding-right: 1em; text-align: center\">Chamado</th>\n",
       "        <th style=\"padding-left: 1em; padding-right: 1em; text-align: center\">Grupo</th>\n",
       "        <th style=\"padding-left: 1em; padding-right: 1em; text-align: center\">Analista</th>\n",
       "        <th style=\"padding-left: 1em; padding-right: 1em; text-align: center\">Solicitante</th>\n",
       "        <th style=\"padding-left: 1em; padding-right: 1em; text-align: center\">Pergunta</th>\n",
       "    </tr>\n",
       "    <tr>\n",
       "        <td style=\"padding-left: 1em; padding-right: 1em; text-align: center; vertical-align: top\">510002</td>\n",
       "        <td style=\"padding-left: 1em; padding-right: 1em; text-align: center; vertical-align: top\">N1</td>\n",
       "        <td style=\"padding-left: 1em; padding-right: 1em; text-align: center; vertical-align: top\">dos Santos Poletto,<br>Flavia ...</td>\n",
       "        <td style=\"padding-left: 1em; padding-right: 1em; text-align: center; vertical-align: top\">Silva, Jose </td>\n",
       "        <td style=\"padding-left: 1em; padding-right: 1em; text-align: center; vertical-align: top\">A solução aplicada foi<br>satisfatória? ...</td>\n",
       "    </tr>\n",
       "    <tr>\n",
       "        <td style=\"padding-left: 1em; padding-right: 1em; text-align: center; vertical-align: top\">5100116</td>\n",
       "        <td style=\"padding-left: 1em; padding-right: 1em; text-align: center; vertical-align: top\">N3 SEGURANCA</td>\n",
       "        <td style=\"padding-left: 1em; padding-right: 1em; text-align: center; vertical-align: top\">Costa, Fellipe </td>\n",
       "        <td style=\"padding-left: 1em; padding-right: 1em; text-align: center; vertical-align: top\">Dias, Rafael </td>\n",
       "        <td style=\"padding-left: 1em; padding-right: 1em; text-align: center; vertical-align: top\">A solução aplicada foi<br>satisfatória? ...</td>\n",
       "    </tr>\n",
       "    <tr>\n",
       "        <td style=\"padding-left: 1em; padding-right: 1em; text-align: center; vertical-align: top\">51003</td>\n",
       "        <td style=\"padding-left: 1em; padding-right: 1em; text-align: center; vertical-align: top\">N1</td>\n",
       "        <td style=\"padding-left: 1em; padding-right: 1em; text-align: center; vertical-align: top\">Valles dos Santos, Almir </td>\n",
       "        <td style=\"padding-left: 1em; padding-right: 1em; text-align: center; vertical-align: top\">Kimuini, Lubanzadio </td>\n",
       "        <td style=\"padding-left: 1em; padding-right: 1em; text-align: center; vertical-align: top\">A solução aplicada foi<br>satisfatória? ...</td>\n",
       "    </tr>\n",
       "    <tr>\n",
       "        <td style=\"padding-left: 1em; padding-right: 1em; text-align: center; vertical-align: top\">5100458</td>\n",
       "        <td style=\"padding-left: 1em; padding-right: 1em; text-align: center; vertical-align: top\">N2 - Suporte SAP SUP</td>\n",
       "        <td style=\"padding-left: 1em; padding-right: 1em; text-align: center; vertical-align: top\">Lucati Ramos, Leticia </td>\n",
       "        <td style=\"padding-left: 1em; padding-right: 1em; text-align: center; vertical-align: top\">Gil, Marcelo </td>\n",
       "        <td style=\"padding-left: 1em; padding-right: 1em; text-align: center; vertical-align: top\">A solução aplicada foi<br>satisfatória? ...</td>\n",
       "    </tr>\n",
       "    <tr>\n",
       "        <td style=\"padding-left: 1em; padding-right: 1em; text-align: center; vertical-align: top\">5100869</td>\n",
       "        <td style=\"padding-left: 1em; padding-right: 1em; text-align: center; vertical-align: top\">N2 - Suporte SAP WF/VIM</td>\n",
       "        <td style=\"padding-left: 1em; padding-right: 1em; text-align: center; vertical-align: top\">Artur Crespo Soares, Luiz</td>\n",
       "        <td style=\"padding-left: 1em; padding-right: 1em; text-align: center; vertical-align: top\">Cruz Santos, Francisco </td>\n",
       "        <td style=\"padding-left: 1em; padding-right: 1em; text-align: center; vertical-align: top\">A solução aplicada foi<br>satisfatória? ...</td>\n",
       "    </tr>\n",
       "    <tr>\n",
       "        <td style=\"padding-left: 1em; padding-right: 1em; text-align: center; vertical-align: top\">5101133</td>\n",
       "        <td style=\"padding-left: 1em; padding-right: 1em; text-align: center; vertical-align: top\">N2 Dados cadastrais</td>\n",
       "        <td style=\"padding-left: 1em; padding-right: 1em; text-align: center; vertical-align: top\">Santos Caldeira, Mauricio</td>\n",
       "        <td style=\"padding-left: 1em; padding-right: 1em; text-align: center; vertical-align: top\">Silva, Rejane </td>\n",
       "        <td style=\"padding-left: 1em; padding-right: 1em; text-align: center; vertical-align: top\">A solução aplicada foi<br>satisfatória? ...</td>\n",
       "    </tr>\n",
       "    <tr>\n",
       "        <td style=\"padding-left: 1em; padding-right: 1em; text-align: center; vertical-align: top\">510121</td>\n",
       "        <td style=\"padding-left: 1em; padding-right: 1em; text-align: center; vertical-align: top\">N1 - RH</td>\n",
       "        <td style=\"padding-left: 1em; padding-right: 1em; text-align: center; vertical-align: top\"></td>\n",
       "        <td style=\"padding-left: 1em; padding-right: 1em; text-align: center; vertical-align: top\">Sergio Chaves, Luiz </td>\n",
       "        <td style=\"padding-left: 1em; padding-right: 1em; text-align: center; vertical-align: top\">A solução aplicada foi<br>satisfatória? ...</td>\n",
       "    </tr>\n",
       "    <tr>\n",
       "        <td style=\"padding-left: 1em; padding-right: 1em; text-align: center; vertical-align: top\">510142</td>\n",
       "        <td style=\"padding-left: 1em; padding-right: 1em; text-align: center; vertical-align: top\">N2 CD</td>\n",
       "        <td style=\"padding-left: 1em; padding-right: 1em; text-align: center; vertical-align: top\">Souza Silva, Rudval </td>\n",
       "        <td style=\"padding-left: 1em; padding-right: 1em; text-align: center; vertical-align: top\">Hipolito, Roberta </td>\n",
       "        <td style=\"padding-left: 1em; padding-right: 1em; text-align: center; vertical-align: top\">A solução aplicada foi<br>satisfatória? ...</td>\n",
       "    </tr>\n",
       "    <tr>\n",
       "        <td style=\"padding-left: 1em; padding-right: 1em; text-align: center; vertical-align: top\">510148</td>\n",
       "        <td style=\"padding-left: 1em; padding-right: 1em; text-align: center; vertical-align: top\">N3 BANCO DE DADOS</td>\n",
       "        <td style=\"padding-left: 1em; padding-right: 1em; text-align: center; vertical-align: top\"></td>\n",
       "        <td style=\"padding-left: 1em; padding-right: 1em; text-align: center; vertical-align: top\">Costa, Sergio </td>\n",
       "        <td style=\"padding-left: 1em; padding-right: 1em; text-align: center; vertical-align: top\">A solução aplicada foi<br>satisfatória? ...</td>\n",
       "    </tr>\n",
       "    <tr>\n",
       "        <td style=\"padding-left: 1em; padding-right: 1em; text-align: center; vertical-align: top\">510148</td>\n",
       "        <td style=\"padding-left: 1em; padding-right: 1em; text-align: center; vertical-align: top\">N3 BANCO DE DADOS</td>\n",
       "        <td style=\"padding-left: 1em; padding-right: 1em; text-align: center; vertical-align: top\"></td>\n",
       "        <td style=\"padding-left: 1em; padding-right: 1em; text-align: center; vertical-align: top\">Costa, Sergio </td>\n",
       "        <td style=\"padding-left: 1em; padding-right: 1em; text-align: center; vertical-align: top\">A solução aplicada foi<br>satisfatória? ...</td>\n",
       "    </tr>\n",
       "</table>\n",
       "<table frame=\"box\" rules=\"cols\">\n",
       "    <tr>\n",
       "        <th style=\"padding-left: 1em; padding-right: 1em; text-align: center\">Resposta</th>\n",
       "        <th style=\"padding-left: 1em; padding-right: 1em; text-align: center\">Data de Abertura</th>\n",
       "        <th style=\"padding-left: 1em; padding-right: 1em; text-align: center\">Data de Resolução</th>\n",
       "        <th style=\"padding-left: 1em; padding-right: 1em; text-align: center\">Comentário</th>\n",
       "    </tr>\n",
       "    <tr>\n",
       "        <td style=\"padding-left: 1em; padding-right: 1em; text-align: center; vertical-align: top\">Sim</td>\n",
       "        <td style=\"padding-left: 1em; padding-right: 1em; text-align: center; vertical-align: top\">2015-03-04 17:27:57</td>\n",
       "        <td style=\"padding-left: 1em; padding-right: 1em; text-align: center; vertical-align: top\">2015-03-05 17:42:04</td>\n",
       "        <td style=\"padding-left: 1em; padding-right: 1em; text-align: center; vertical-align: top\">Agradecimentos. Sempre</td>\n",
       "    </tr>\n",
       "    <tr>\n",
       "        <td style=\"padding-left: 1em; padding-right: 1em; text-align: center; vertical-align: top\">Sim</td>\n",
       "        <td style=\"padding-left: 1em; padding-right: 1em; text-align: center; vertical-align: top\">2015-11-19 15:50:36</td>\n",
       "        <td style=\"padding-left: 1em; padding-right: 1em; text-align: center; vertical-align: top\">2015-11-19 15:57:11</td>\n",
       "        <td style=\"padding-left: 1em; padding-right: 1em; text-align: center; vertical-align: top\">muito bom e rápido.</td>\n",
       "    </tr>\n",
       "    <tr>\n",
       "        <td style=\"padding-left: 1em; padding-right: 1em; text-align: center; vertical-align: top\">Sim</td>\n",
       "        <td style=\"padding-left: 1em; padding-right: 1em; text-align: center; vertical-align: top\">2015-02-03 14:30:55</td>\n",
       "        <td style=\"padding-left: 1em; padding-right: 1em; text-align: center; vertical-align: top\">2015-04-13 07:14:52</td>\n",
       "        <td style=\"padding-left: 1em; padding-right: 1em; text-align: center; vertical-align: top\">deve ser melhorado o<br>tempo de resposta. e dar ...</td>\n",
       "    </tr>\n",
       "    <tr>\n",
       "        <td style=\"padding-left: 1em; padding-right: 1em; text-align: center; vertical-align: top\">Sim</td>\n",
       "        <td style=\"padding-left: 1em; padding-right: 1em; text-align: center; vertical-align: top\">2015-11-20 10:35:25</td>\n",
       "        <td style=\"padding-left: 1em; padding-right: 1em; text-align: center; vertical-align: top\">2015-11-20 11:54:17</td>\n",
       "        <td style=\"padding-left: 1em; padding-right: 1em; text-align: center; vertical-align: top\">Muito Obrigado Leticia.</td>\n",
       "    </tr>\n",
       "    <tr>\n",
       "        <td style=\"padding-left: 1em; padding-right: 1em; text-align: center; vertical-align: top\">Sim</td>\n",
       "        <td style=\"padding-left: 1em; padding-right: 1em; text-align: center; vertical-align: top\">2015-11-23 08:20:10</td>\n",
       "        <td style=\"padding-left: 1em; padding-right: 1em; text-align: center; vertical-align: top\">2015-11-23 10:31:33</td>\n",
       "        <td style=\"padding-left: 1em; padding-right: 1em; text-align: center; vertical-align: top\">Obrigado</td>\n",
       "    </tr>\n",
       "    <tr>\n",
       "        <td style=\"padding-left: 1em; padding-right: 1em; text-align: center; vertical-align: top\">Não</td>\n",
       "        <td style=\"padding-left: 1em; padding-right: 1em; text-align: center; vertical-align: top\">2015-11-23 11:27:52</td>\n",
       "        <td style=\"padding-left: 1em; padding-right: 1em; text-align: center; vertical-align: top\">2015-11-23 18:02:29</td>\n",
       "        <td style=\"padding-left: 1em; padding-right: 1em; text-align: center; vertical-align: top\">Não houve resposta ao<br>chamado. ...</td>\n",
       "    </tr>\n",
       "    <tr>\n",
       "        <td style=\"padding-left: 1em; padding-right: 1em; text-align: center; vertical-align: top\">Sim</td>\n",
       "        <td style=\"padding-left: 1em; padding-right: 1em; text-align: center; vertical-align: top\">2015-03-05 07:15:36</td>\n",
       "        <td style=\"padding-left: 1em; padding-right: 1em; text-align: center; vertical-align: top\">2015-04-10 14:03:15</td>\n",
       "        <td style=\"padding-left: 1em; padding-right: 1em; text-align: center; vertical-align: top\">Agaradeço a presteza da<br>equipe, e a colaboraç ...</td>\n",
       "    </tr>\n",
       "    <tr>\n",
       "        <td style=\"padding-left: 1em; padding-right: 1em; text-align: center; vertical-align: top\">Sim</td>\n",
       "        <td style=\"padding-left: 1em; padding-right: 1em; text-align: center; vertical-align: top\">2015-03-05 08:27:40</td>\n",
       "        <td style=\"padding-left: 1em; padding-right: 1em; text-align: center; vertical-align: top\">2015-03-05 11:38:19</td>\n",
       "        <td style=\"padding-left: 1em; padding-right: 1em; text-align: center; vertical-align: top\">Satisfeita com o<br>atendimento service d ...</td>\n",
       "    </tr>\n",
       "    <tr>\n",
       "        <td style=\"padding-left: 1em; padding-right: 1em; text-align: center; vertical-align: top\">Não</td>\n",
       "        <td style=\"padding-left: 1em; padding-right: 1em; text-align: center; vertical-align: top\">2015-03-05 08:39:27</td>\n",
       "        <td style=\"padding-left: 1em; padding-right: 1em; text-align: center; vertical-align: top\">2015-03-11 11:08:44</td>\n",
       "        <td style=\"padding-left: 1em; padding-right: 1em; text-align: center; vertical-align: top\">Foi fechado o chamado mas<br>nao foi resolvido o ...</td>\n",
       "    </tr>\n",
       "    <tr>\n",
       "        <td style=\"padding-left: 1em; padding-right: 1em; text-align: center; vertical-align: top\">Não</td>\n",
       "        <td style=\"padding-left: 1em; padding-right: 1em; text-align: center; vertical-align: top\">2015-03-05 08:39:27</td>\n",
       "        <td style=\"padding-left: 1em; padding-right: 1em; text-align: center; vertical-align: top\">2015-03-11 11:08:44</td>\n",
       "        <td style=\"padding-left: 1em; padding-right: 1em; text-align: center; vertical-align: top\">Se esta resposta se<br>refere ao chamado 510 ...</td>\n",
       "    </tr>\n",
       "</table>\n",
       "[1417 rows x 9 columns]<br/>Note: Only the head of the SFrame is printed.<br/>You can use print_rows(num_rows=m, num_columns=n) to print more rows and columns.\n",
       "</div>"
      ],
      "text/plain": [
       "Columns:\n",
       "\tChamado\tint\n",
       "\tGrupo\tstr\n",
       "\tAnalista\tstr\n",
       "\tSolicitante\tstr\n",
       "\tPergunta\tstr\n",
       "\tResposta\tstr\n",
       "\tData de Abertura\tstr\n",
       "\tData de Resolução\tstr\n",
       "\tComentário\tstr\n",
       "\n",
       "Rows: 1417\n",
       "\n",
       "Data:\n",
       "+---------+-------------------------+-----------------------------+\n",
       "| Chamado |          Grupo          |           Analista          |\n",
       "+---------+-------------------------+-----------------------------+\n",
       "|  510002 |            N1           | dos Santos Poletto, Flavia  |\n",
       "| 5100116 |       N3 SEGURANCA      |       Costa, Fellipe        |\n",
       "|  51003  |            N1           |  Valles dos Santos, Almir   |\n",
       "| 5100458 |   N2 - Suporte SAP SUP  |    Lucati Ramos, Leticia    |\n",
       "| 5100869 | N2 - Suporte SAP WF/VIM |  Artur Crespo Soares, Luiz  |\n",
       "| 5101133 |   N2 Dados cadastrais   |  Santos Caldeira, Mauricio  |\n",
       "|  510121 |         N1 - RH         |                             |\n",
       "|  510142 |          N2 CD          |     Souza Silva, Rudval     |\n",
       "|  510148 |    N3 BANCO DE DADOS    |                             |\n",
       "|  510148 |    N3 BANCO DE DADOS    |                             |\n",
       "+---------+-------------------------+-----------------------------+\n",
       "+-------------------------+-------------------------------+----------+\n",
       "|       Solicitante       |            Pergunta           | Resposta |\n",
       "+-------------------------+-------------------------------+----------+\n",
       "|       Silva, Jose       | A solução aplicada foi sat... |   Sim    |\n",
       "|      Dias, Rafael       | A solução aplicada foi sat... |   Sim    |\n",
       "|   Kimuini, Lubanzadio   | A solução aplicada foi sat... |   Sim    |\n",
       "|      Gil, Marcelo       | A solução aplicada foi sat... |   Sim    |\n",
       "| Cruz Santos, Francisco  | A solução aplicada foi sat... |   Sim    |\n",
       "|      Silva, Rejane      | A solução aplicada foi sat... |   Não    |\n",
       "|   Sergio Chaves, Luiz   | A solução aplicada foi sat... |   Sim    |\n",
       "|    Hipolito, Roberta    | A solução aplicada foi sat... |   Sim    |\n",
       "|      Costa, Sergio      | A solução aplicada foi sat... |   Não    |\n",
       "|      Costa, Sergio      | A solução aplicada foi sat... |   Não    |\n",
       "+-------------------------+-------------------------------+----------+\n",
       "+---------------------+---------------------+-------------------------------+\n",
       "|   Data de Abertura  |  Data de Resolução  |           Comentário          |\n",
       "+---------------------+---------------------+-------------------------------+\n",
       "| 2015-03-04 17:27:57 | 2015-03-05 17:42:04 |     Agradecimentos. Sempre    |\n",
       "| 2015-11-19 15:50:36 | 2015-11-19 15:57:11 |      muito bom e rápido.      |\n",
       "| 2015-02-03 14:30:55 | 2015-04-13 07:14:52 | deve ser melhorado o tempo... |\n",
       "| 2015-11-20 10:35:25 | 2015-11-20 11:54:17 |    Muito Obrigado Leticia.    |\n",
       "| 2015-11-23 08:20:10 | 2015-11-23 10:31:33 |            Obrigado           |\n",
       "| 2015-11-23 11:27:52 | 2015-11-23 18:02:29 | Não houve resposta ao cham... |\n",
       "| 2015-03-05 07:15:36 | 2015-04-10 14:03:15 | Agaradeço a presteza da eq... |\n",
       "| 2015-03-05 08:27:40 | 2015-03-05 11:38:19 | Satisfeita com o atendimen... |\n",
       "| 2015-03-05 08:39:27 | 2015-03-11 11:08:44 | Foi fechado o chamado mas ... |\n",
       "| 2015-03-05 08:39:27 | 2015-03-11 11:08:44 | Se esta resposta se refere... |\n",
       "+---------------------+---------------------+-------------------------------+\n",
       "[1417 rows x 9 columns]\n",
       "Note: Only the head of the SFrame is printed.\n",
       "You can use print_rows(num_rows=m, num_columns=n) to print more rows and columns."
      ]
     },
     "execution_count": 7,
     "metadata": {},
     "output_type": "execute_result"
    }
   ],
   "source": [
    "ml.remove_column('X1')"
   ]
  },
  {
   "cell_type": "code",
   "execution_count": 8,
   "metadata": {
    "collapsed": false
   },
   "outputs": [],
   "source": [
    "ml['word_count'] = graphlab.text_analytics.count_words(ml['Comentário'])#realiza a contagem de palavras"
   ]
  },
  {
   "cell_type": "markdown",
   "metadata": {},
   "source": [
    "##Mostra a distribuição dos dados"
   ]
  },
  {
   "cell_type": "code",
   "execution_count": 9,
   "metadata": {
    "collapsed": false
   },
   "outputs": [
    {
     "data": {
      "application/javascript": [
       "$(\"head\").append($(\"<link/>\").attr({\n",
       "  rel:  \"stylesheet\",\n",
       "  type: \"text/css\",\n",
       "  href: \"//cdnjs.cloudflare.com/ajax/libs/font-awesome/4.1.0/css/font-awesome.min.css\"\n",
       "}));\n",
       "$(\"head\").append($(\"<link/>\").attr({\n",
       "  rel:  \"stylesheet\",\n",
       "  type: \"text/css\",\n",
       "  href: \"//dato.com/files/canvas/1.8.4/css/canvas.css\"\n",
       "}));\n",
       "\n",
       "            (function(){\n",
       "\n",
       "                var e = null;\n",
       "                if (typeof element == 'undefined') {\n",
       "                    var scripts = document.getElementsByTagName('script');\n",
       "                    var thisScriptTag = scripts[scripts.length-1];\n",
       "                    var parentDiv = thisScriptTag.parentNode;\n",
       "                    e = document.createElement('div');\n",
       "                    parentDiv.appendChild(e);\n",
       "                } else {\n",
       "                    e = element[0];\n",
       "                }\n",
       "\n",
       "                if (typeof requirejs !== 'undefined') {\n",
       "                    // disable load timeout; ipython_app.js is large and can take a while to load.\n",
       "                    requirejs.config({waitSeconds: 0});\n",
       "                }\n",
       "\n",
       "                require(['//dato.com/files/canvas/1.8.4/js/ipython_app.js'], function(IPythonApp){\n",
       "                    var app = new IPythonApp();\n",
       "                    app.attachView('sarray','Categorical', {\"ipython\": true, \"sketch\": {\"complete\": true, \"numeric\": false, \"num_unique\": 2, \"num_undefined\": 0, \"progress\": 1.0, \"frequent_items\": {\"N\\ufffd\\ufffdo\": {\"frequency\": 563, \"value\": \"N\\u00e3o\"}, \"Sim\": {\"frequency\": 854, \"value\": \"Sim\"}}, \"size\": 1417}, \"selected_variable\": {\"name\": [\"<SArray>\"], \"dtype\": \"str\", \"view_component\": \"Categorical\", \"view_file\": \"sarray\", \"descriptives\": {\"rows\": 1417}, \"type\": \"SArray\", \"view_components\": [\"Categorical\"]}, \"histogram\": null}, e);\n",
       "                });\n",
       "            })();\n",
       "        "
      ]
     },
     "metadata": {},
     "output_type": "display_data"
    }
   ],
   "source": [
    "graphlab.canvas.set_target('ipynb')\n",
    "ml['Resposta'].show(view='Categorical')"
   ]
  },
  {
   "cell_type": "markdown",
   "metadata": {},
   "source": [
    "##Assim como na prática, faz com que o sentimento positivo esteja relacionado a àquelas avaliações classificadas com Sim"
   ]
  },
  {
   "cell_type": "code",
   "execution_count": 17,
   "metadata": {
    "collapsed": false
   },
   "outputs": [],
   "source": [
    "ml['sentiment'] = ml['Resposta'] == 'Sim'"
   ]
  },
  {
   "cell_type": "markdown",
   "metadata": {},
   "source": [
    "##Cria o modelo"
   ]
  },
  {
   "cell_type": "code",
   "execution_count": 11,
   "metadata": {
    "collapsed": false
   },
   "outputs": [
    {
     "data": {
      "text/html": [
       "<pre>WARNING: The number of feature dimensions in this problem is very large in comparison with the number of examples. Unless an appropriate regularization value is set, this model may not provide accurate predictions for a validation/test set.</pre>"
      ],
      "text/plain": [
       "WARNING: The number of feature dimensions in this problem is very large in comparison with the number of examples. Unless an appropriate regularization value is set, this model may not provide accurate predictions for a validation/test set."
      ]
     },
     "metadata": {},
     "output_type": "display_data"
    },
    {
     "data": {
      "text/html": [
       "<pre>Logistic regression:</pre>"
      ],
      "text/plain": [
       "Logistic regression:"
      ]
     },
     "metadata": {},
     "output_type": "display_data"
    },
    {
     "data": {
      "text/html": [
       "<pre>--------------------------------------------------------</pre>"
      ],
      "text/plain": [
       "--------------------------------------------------------"
      ]
     },
     "metadata": {},
     "output_type": "display_data"
    },
    {
     "data": {
      "text/html": [
       "<pre>Number of examples          : 1124</pre>"
      ],
      "text/plain": [
       "Number of examples          : 1124"
      ]
     },
     "metadata": {},
     "output_type": "display_data"
    },
    {
     "data": {
      "text/html": [
       "<pre>Number of classes           : 2</pre>"
      ],
      "text/plain": [
       "Number of classes           : 2"
      ]
     },
     "metadata": {},
     "output_type": "display_data"
    },
    {
     "data": {
      "text/html": [
       "<pre>Number of feature columns   : 1</pre>"
      ],
      "text/plain": [
       "Number of feature columns   : 1"
      ]
     },
     "metadata": {},
     "output_type": "display_data"
    },
    {
     "data": {
      "text/html": [
       "<pre>Number of unpacked features : 3857</pre>"
      ],
      "text/plain": [
       "Number of unpacked features : 3857"
      ]
     },
     "metadata": {},
     "output_type": "display_data"
    },
    {
     "data": {
      "text/html": [
       "<pre>Number of coefficients    : 3858</pre>"
      ],
      "text/plain": [
       "Number of coefficients    : 3858"
      ]
     },
     "metadata": {},
     "output_type": "display_data"
    },
    {
     "data": {
      "text/html": [
       "<pre>Starting L-BFGS</pre>"
      ],
      "text/plain": [
       "Starting L-BFGS"
      ]
     },
     "metadata": {},
     "output_type": "display_data"
    },
    {
     "data": {
      "text/html": [
       "<pre>--------------------------------------------------------</pre>"
      ],
      "text/plain": [
       "--------------------------------------------------------"
      ]
     },
     "metadata": {},
     "output_type": "display_data"
    },
    {
     "data": {
      "text/html": [
       "<pre>+-----------+----------+-----------+--------------+-------------------+---------------------+</pre>"
      ],
      "text/plain": [
       "+-----------+----------+-----------+--------------+-------------------+---------------------+"
      ]
     },
     "metadata": {},
     "output_type": "display_data"
    },
    {
     "data": {
      "text/html": [
       "<pre>| Iteration | Passes   | Step size | Elapsed Time | Training-accuracy | Validation-accuracy |</pre>"
      ],
      "text/plain": [
       "| Iteration | Passes   | Step size | Elapsed Time | Training-accuracy | Validation-accuracy |"
      ]
     },
     "metadata": {},
     "output_type": "display_data"
    },
    {
     "data": {
      "text/html": [
       "<pre>+-----------+----------+-----------+--------------+-------------------+---------------------+</pre>"
      ],
      "text/plain": [
       "+-----------+----------+-----------+--------------+-------------------+---------------------+"
      ]
     },
     "metadata": {},
     "output_type": "display_data"
    },
    {
     "data": {
      "text/html": [
       "<pre>| 1         | 3        | 0.000890  | 1.036991     | 0.975979          | 0.856655            |</pre>"
      ],
      "text/plain": [
       "| 1         | 3        | 0.000890  | 1.036991     | 0.975979          | 0.856655            |"
      ]
     },
     "metadata": {},
     "output_type": "display_data"
    },
    {
     "data": {
      "text/html": [
       "<pre>| 2         | 5        | 1.000000  | 1.070022     | 0.990214          | 0.860068            |</pre>"
      ],
      "text/plain": [
       "| 2         | 5        | 1.000000  | 1.070022     | 0.990214          | 0.860068            |"
      ]
     },
     "metadata": {},
     "output_type": "display_data"
    },
    {
     "data": {
      "text/html": [
       "<pre>| 3         | 6        | 1.000000  | 1.076028     | 0.992883          | 0.860068            |</pre>"
      ],
      "text/plain": [
       "| 3         | 6        | 1.000000  | 1.076028     | 0.992883          | 0.860068            |"
      ]
     },
     "metadata": {},
     "output_type": "display_data"
    },
    {
     "data": {
      "text/html": [
       "<pre>| 4         | 7        | 1.000000  | 1.082035     | 0.995552          | 0.866894            |</pre>"
      ],
      "text/plain": [
       "| 4         | 7        | 1.000000  | 1.082035     | 0.995552          | 0.866894            |"
      ]
     },
     "metadata": {},
     "output_type": "display_data"
    },
    {
     "data": {
      "text/html": [
       "<pre>| 5         | 8        | 1.000000  | 1.087037     | 0.997331          | 0.849829            |</pre>"
      ],
      "text/plain": [
       "| 5         | 8        | 1.000000  | 1.087037     | 0.997331          | 0.849829            |"
      ]
     },
     "metadata": {},
     "output_type": "display_data"
    },
    {
     "data": {
      "text/html": [
       "<pre>| 6         | 9        | 1.000000  | 1.094045     | 0.997331          | 0.849829            |</pre>"
      ],
      "text/plain": [
       "| 6         | 9        | 1.000000  | 1.094045     | 0.997331          | 0.849829            |"
      ]
     },
     "metadata": {},
     "output_type": "display_data"
    },
    {
     "data": {
      "text/html": [
       "<pre>+-----------+----------+-----------+--------------+-------------------+---------------------+</pre>"
      ],
      "text/plain": [
       "+-----------+----------+-----------+--------------+-------------------+---------------------+"
      ]
     },
     "metadata": {},
     "output_type": "display_data"
    },
    {
     "data": {
      "text/html": [
       "<pre>TERMINATED: Iteration limit reached.</pre>"
      ],
      "text/plain": [
       "TERMINATED: Iteration limit reached."
      ]
     },
     "metadata": {},
     "output_type": "display_data"
    },
    {
     "data": {
      "text/html": [
       "<pre>This model may not be optimal. To improve it, consider increasing `max_iterations`.</pre>"
      ],
      "text/plain": [
       "This model may not be optimal. To improve it, consider increasing `max_iterations`."
      ]
     },
     "metadata": {},
     "output_type": "display_data"
    }
   ],
   "source": [
    "train_data, test_data = ml.random_split(.8,seed=0)\n",
    "sentiment_model = graphlab.logistic_classifier.create(train_data,target='sentiment',features=['word_count'],validation_set=test_data)"
   ]
  },
  {
   "cell_type": "markdown",
   "metadata": {},
   "source": [
    "##Resultados do modelo usando apenas word_count como feature"
   ]
  },
  {
   "cell_type": "code",
   "execution_count": 12,
   "metadata": {
    "collapsed": false
   },
   "outputs": [
    {
     "data": {
      "text/plain": [
       "{'accuracy': 0.8327645051194539,\n",
       " 'auc': 0.903044871794872,\n",
       " 'confusion_matrix': Columns:\n",
       " \ttarget_label\tint\n",
       " \tpredicted_label\tint\n",
       " \tcount\tint\n",
       " \n",
       " Rows: 4\n",
       " \n",
       " Data:\n",
       " +--------------+-----------------+-------+\n",
       " | target_label | predicted_label | count |\n",
       " +--------------+-----------------+-------+\n",
       " |      1       |        0        |   29  |\n",
       " |      0       |        1        |   20  |\n",
       " |      0       |        0        |   97  |\n",
       " |      1       |        1        |  147  |\n",
       " +--------------+-----------------+-------+\n",
       " [4 rows x 3 columns],\n",
       " 'f1_score': 0.8571428571428571,\n",
       " 'log_loss': 0.6635403725126319,\n",
       " 'precision': 0.8802395209580839,\n",
       " 'recall': 0.8352272727272727,\n",
       " 'roc_curve': Columns:\n",
       " \tthreshold\tfloat\n",
       " \tfpr\tfloat\n",
       " \ttpr\tfloat\n",
       " \tp\tint\n",
       " \tn\tint\n",
       " \n",
       " Rows: 100001\n",
       " \n",
       " Data:\n",
       " +-----------+----------------+----------------+-----+-----+\n",
       " | threshold |      fpr       |      tpr       |  p  |  n  |\n",
       " +-----------+----------------+----------------+-----+-----+\n",
       " |    0.0    |      1.0       |      1.0       | 176 | 117 |\n",
       " |   1e-05   | 0.846153846154 | 0.994318181818 | 176 | 117 |\n",
       " |   2e-05   | 0.837606837607 | 0.994318181818 | 176 | 117 |\n",
       " |   3e-05   | 0.811965811966 | 0.988636363636 | 176 | 117 |\n",
       " |   4e-05   | 0.811965811966 | 0.988636363636 | 176 | 117 |\n",
       " |   5e-05   | 0.803418803419 | 0.988636363636 | 176 | 117 |\n",
       " |   6e-05   | 0.794871794872 | 0.988636363636 | 176 | 117 |\n",
       " |   7e-05   | 0.786324786325 | 0.988636363636 | 176 | 117 |\n",
       " |   8e-05   | 0.786324786325 | 0.988636363636 | 176 | 117 |\n",
       " |   9e-05   | 0.786324786325 | 0.988636363636 | 176 | 117 |\n",
       " +-----------+----------------+----------------+-----+-----+\n",
       " [100001 rows x 5 columns]\n",
       " Note: Only the head of the SFrame is printed.\n",
       " You can use print_rows(num_rows=m, num_columns=n) to print more rows and columns.}"
      ]
     },
     "execution_count": 12,
     "metadata": {},
     "output_type": "execute_result"
    }
   ],
   "source": [
    "sentiment_model.evaluate(test_data)"
   ]
  },
  {
   "cell_type": "code",
   "execution_count": 13,
   "metadata": {
    "collapsed": false
   },
   "outputs": [
    {
     "data": {
      "text/html": [
       "<pre>WARNING: The number of feature dimensions in this problem is very large in comparison with the number of examples. Unless an appropriate regularization value is set, this model may not provide accurate predictions for a validation/test set.</pre>"
      ],
      "text/plain": [
       "WARNING: The number of feature dimensions in this problem is very large in comparison with the number of examples. Unless an appropriate regularization value is set, this model may not provide accurate predictions for a validation/test set."
      ]
     },
     "metadata": {},
     "output_type": "display_data"
    },
    {
     "data": {
      "text/html": [
       "<pre>Logistic regression:</pre>"
      ],
      "text/plain": [
       "Logistic regression:"
      ]
     },
     "metadata": {},
     "output_type": "display_data"
    },
    {
     "data": {
      "text/html": [
       "<pre>--------------------------------------------------------</pre>"
      ],
      "text/plain": [
       "--------------------------------------------------------"
      ]
     },
     "metadata": {},
     "output_type": "display_data"
    },
    {
     "data": {
      "text/html": [
       "<pre>Number of examples          : 1124</pre>"
      ],
      "text/plain": [
       "Number of examples          : 1124"
      ]
     },
     "metadata": {},
     "output_type": "display_data"
    },
    {
     "data": {
      "text/html": [
       "<pre>Number of classes           : 2</pre>"
      ],
      "text/plain": [
       "Number of classes           : 2"
      ]
     },
     "metadata": {},
     "output_type": "display_data"
    },
    {
     "data": {
      "text/html": [
       "<pre>Number of feature columns   : 2</pre>"
      ],
      "text/plain": [
       "Number of feature columns   : 2"
      ]
     },
     "metadata": {},
     "output_type": "display_data"
    },
    {
     "data": {
      "text/html": [
       "<pre>Number of unpacked features : 3858</pre>"
      ],
      "text/plain": [
       "Number of unpacked features : 3858"
      ]
     },
     "metadata": {},
     "output_type": "display_data"
    },
    {
     "data": {
      "text/html": [
       "<pre>Number of coefficients    : 3934</pre>"
      ],
      "text/plain": [
       "Number of coefficients    : 3934"
      ]
     },
     "metadata": {},
     "output_type": "display_data"
    },
    {
     "data": {
      "text/html": [
       "<pre>Starting L-BFGS</pre>"
      ],
      "text/plain": [
       "Starting L-BFGS"
      ]
     },
     "metadata": {},
     "output_type": "display_data"
    },
    {
     "data": {
      "text/html": [
       "<pre>--------------------------------------------------------</pre>"
      ],
      "text/plain": [
       "--------------------------------------------------------"
      ]
     },
     "metadata": {},
     "output_type": "display_data"
    },
    {
     "data": {
      "text/html": [
       "<pre>+-----------+----------+-----------+--------------+-------------------+---------------------+</pre>"
      ],
      "text/plain": [
       "+-----------+----------+-----------+--------------+-------------------+---------------------+"
      ]
     },
     "metadata": {},
     "output_type": "display_data"
    },
    {
     "data": {
      "text/html": [
       "<pre>| Iteration | Passes   | Step size | Elapsed Time | Training-accuracy | Validation-accuracy |</pre>"
      ],
      "text/plain": [
       "| Iteration | Passes   | Step size | Elapsed Time | Training-accuracy | Validation-accuracy |"
      ]
     },
     "metadata": {},
     "output_type": "display_data"
    },
    {
     "data": {
      "text/html": [
       "<pre>+-----------+----------+-----------+--------------+-------------------+---------------------+</pre>"
      ],
      "text/plain": [
       "+-----------+----------+-----------+--------------+-------------------+---------------------+"
      ]
     },
     "metadata": {},
     "output_type": "display_data"
    },
    {
     "data": {
      "text/html": [
       "<pre>| 1         | 3        | 0.000890  | 0.010008     | 0.974199          | 0.860068            |</pre>"
      ],
      "text/plain": [
       "| 1         | 3        | 0.000890  | 0.010008     | 0.974199          | 0.860068            |"
      ]
     },
     "metadata": {},
     "output_type": "display_data"
    },
    {
     "data": {
      "text/html": [
       "<pre>| 2         | 5        | 1.000000  | 0.020019     | 0.985765          | 0.863481            |</pre>"
      ],
      "text/plain": [
       "| 2         | 5        | 1.000000  | 0.020019     | 0.985765          | 0.863481            |"
      ]
     },
     "metadata": {},
     "output_type": "display_data"
    },
    {
     "data": {
      "text/html": [
       "<pre>| 3         | 6        | 1.000000  | 0.027025     | 0.991993          | 0.856655            |</pre>"
      ],
      "text/plain": [
       "| 3         | 6        | 1.000000  | 0.027025     | 0.991993          | 0.856655            |"
      ]
     },
     "metadata": {},
     "output_type": "display_data"
    },
    {
     "data": {
      "text/html": [
       "<pre>| 4         | 7        | 1.000000  | 0.034032     | 0.996441          | 0.856655            |</pre>"
      ],
      "text/plain": [
       "| 4         | 7        | 1.000000  | 0.034032     | 0.996441          | 0.856655            |"
      ]
     },
     "metadata": {},
     "output_type": "display_data"
    },
    {
     "data": {
      "text/html": [
       "<pre>| 5         | 8        | 1.000000  | 0.039035     | 0.998221          | 0.846416            |</pre>"
      ],
      "text/plain": [
       "| 5         | 8        | 1.000000  | 0.039035     | 0.998221          | 0.846416            |"
      ]
     },
     "metadata": {},
     "output_type": "display_data"
    },
    {
     "data": {
      "text/html": [
       "<pre>| 6         | 9        | 1.000000  | 0.046043     | 0.999110          | 0.849829            |</pre>"
      ],
      "text/plain": [
       "| 6         | 9        | 1.000000  | 0.046043     | 0.999110          | 0.849829            |"
      ]
     },
     "metadata": {},
     "output_type": "display_data"
    },
    {
     "data": {
      "text/html": [
       "<pre>+-----------+----------+-----------+--------------+-------------------+---------------------+</pre>"
      ],
      "text/plain": [
       "+-----------+----------+-----------+--------------+-------------------+---------------------+"
      ]
     },
     "metadata": {},
     "output_type": "display_data"
    },
    {
     "data": {
      "text/html": [
       "<pre>TERMINATED: Iteration limit reached.</pre>"
      ],
      "text/plain": [
       "TERMINATED: Iteration limit reached."
      ]
     },
     "metadata": {},
     "output_type": "display_data"
    },
    {
     "data": {
      "text/html": [
       "<pre>This model may not be optimal. To improve it, consider increasing `max_iterations`.</pre>"
      ],
      "text/plain": [
       "This model may not be optimal. To improve it, consider increasing `max_iterations`."
      ]
     },
     "metadata": {},
     "output_type": "display_data"
    }
   ],
   "source": [
    "more_features = graphlab.logistic_classifier.create(train_data,target='sentiment',features=['word_count','Grupo'],validation_set=test_data)"
   ]
  },
  {
   "cell_type": "markdown",
   "metadata": {},
   "source": [
    "##Resultados do modelo usando word_count e Grupo como features"
   ]
  },
  {
   "cell_type": "code",
   "execution_count": 14,
   "metadata": {
    "collapsed": false
   },
   "outputs": [
    {
     "data": {
      "text/plain": [
       "{'accuracy': 0.8225255972696246,\n",
       " 'auc': 0.904088966588967,\n",
       " 'confusion_matrix': Columns:\n",
       " \ttarget_label\tint\n",
       " \tpredicted_label\tint\n",
       " \tcount\tint\n",
       " \n",
       " Rows: 4\n",
       " \n",
       " Data:\n",
       " +--------------+-----------------+-------+\n",
       " | target_label | predicted_label | count |\n",
       " +--------------+-----------------+-------+\n",
       " |      0       |        1        |   22  |\n",
       " |      1       |        0        |   30  |\n",
       " |      0       |        0        |   95  |\n",
       " |      1       |        1        |  146  |\n",
       " +--------------+-----------------+-------+\n",
       " [4 rows x 3 columns],\n",
       " 'f1_score': 0.8488372093023256,\n",
       " 'log_loss': 0.6804020844659637,\n",
       " 'precision': 0.8690476190476191,\n",
       " 'recall': 0.8295454545454546,\n",
       " 'roc_curve': Columns:\n",
       " \tthreshold\tfloat\n",
       " \tfpr\tfloat\n",
       " \ttpr\tfloat\n",
       " \tp\tint\n",
       " \tn\tint\n",
       " \n",
       " Rows: 100001\n",
       " \n",
       " Data:\n",
       " +-----------+----------------+----------------+-----+-----+\n",
       " | threshold |      fpr       |      tpr       |  p  |  n  |\n",
       " +-----------+----------------+----------------+-----+-----+\n",
       " |    0.0    |      1.0       |      1.0       | 176 | 117 |\n",
       " |   1e-05   | 0.82905982906  |      1.0       | 176 | 117 |\n",
       " |   2e-05   | 0.82905982906  |      1.0       | 176 | 117 |\n",
       " |   3e-05   | 0.820512820513 | 0.994318181818 | 176 | 117 |\n",
       " |   4e-05   | 0.820512820513 | 0.988636363636 | 176 | 117 |\n",
       " |   5e-05   | 0.811965811966 | 0.988636363636 | 176 | 117 |\n",
       " |   6e-05   | 0.811965811966 | 0.988636363636 | 176 | 117 |\n",
       " |   7e-05   | 0.811965811966 | 0.988636363636 | 176 | 117 |\n",
       " |   8e-05   | 0.811965811966 | 0.988636363636 | 176 | 117 |\n",
       " |   9e-05   | 0.803418803419 | 0.988636363636 | 176 | 117 |\n",
       " +-----------+----------------+----------------+-----+-----+\n",
       " [100001 rows x 5 columns]\n",
       " Note: Only the head of the SFrame is printed.\n",
       " You can use print_rows(num_rows=m, num_columns=n) to print more rows and columns.}"
      ]
     },
     "execution_count": 14,
     "metadata": {},
     "output_type": "execute_result"
    }
   ],
   "source": [
    "more_features.evaluate(test_data)"
   ]
  }
 ],
 "metadata": {
  "kernelspec": {
   "display_name": "Python 2",
   "language": "python",
   "name": "python2"
  },
  "language_info": {
   "codemirror_mode": {
    "name": "ipython",
    "version": 2
   },
   "file_extension": ".py",
   "mimetype": "text/x-python",
   "name": "python",
   "nbconvert_exporter": "python",
   "pygments_lexer": "ipython2",
   "version": "2.7.10"
  }
 },
 "nbformat": 4,
 "nbformat_minor": 0
}
