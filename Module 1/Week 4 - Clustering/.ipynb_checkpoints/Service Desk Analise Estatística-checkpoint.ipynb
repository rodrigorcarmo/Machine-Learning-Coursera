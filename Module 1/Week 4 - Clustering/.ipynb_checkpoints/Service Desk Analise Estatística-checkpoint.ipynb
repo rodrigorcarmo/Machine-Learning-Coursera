{
 "cells": [
  {
   "cell_type": "code",
   "execution_count": 2,
   "metadata": {
    "collapsed": false
   },
   "outputs": [],
   "source": [
    "import graphlab\n",
    "import xlrd\n",
    "import pandas\n",
    "import numpy as np\n",
    "import matplotlib.pyplot as plt"
   ]
  },
  {
   "cell_type": "markdown",
   "metadata": {},
   "source": [
    "#Abre o arquivo Excel usando Pandas\n",
    "##Necessário colocar a string no formato u' ' pois assim caracteres unicode são automaticamente convertidos, como a acentuação"
   ]
  },
  {
   "cell_type": "code",
   "execution_count": 3,
   "metadata": {
    "collapsed": false
   },
   "outputs": [],
   "source": [
    "data = pandas.read_excel(u'Pesquisa de Satisfação.xls',sheetname=u'Analítico')"
   ]
  },
  {
   "cell_type": "markdown",
   "metadata": {},
   "source": [
    "##Imprime as colunas e remove aquela que não traz informação útil"
   ]
  },
  {
   "cell_type": "code",
   "execution_count": 4,
   "metadata": {
    "collapsed": false
   },
   "outputs": [
    {
     "name": "stdout",
     "output_type": "stream",
     "text": [
      "Index([       u'Unnamed: 0',           u'Chamado',             u'Grupo',\n",
      "                u'Analista',       u'Solicitante',          u'Pergunta',\n",
      "                u'Resposta',  u'Data de Abertura', u'Data de Resolução',\n",
      "              u'Comentário'],\n",
      "      dtype='object')\n",
      "Index([          u'Chamado',             u'Grupo',          u'Analista',\n",
      "             u'Solicitante',          u'Pergunta',          u'Resposta',\n",
      "        u'Data de Abertura', u'Data de Resolução',        u'Comentário'],\n",
      "      dtype='object')\n"
     ]
    }
   ],
   "source": [
    "print data.columns\n",
    "del data['Unnamed: 0']\n",
    "print data.columns"
   ]
  },
  {
   "cell_type": "markdown",
   "metadata": {},
   "source": [
    "##Calcula o tempo decorrido entre a abertura e o fechamento do chamado e classifica o dataset em dados positivos e negativos"
   ]
  },
  {
   "cell_type": "code",
   "execution_count": 5,
   "metadata": {
    "collapsed": false
   },
   "outputs": [],
   "source": [
    "data = data.replace('\\n', ' ', regex = True) #Substitui quebra de linha por espaço em branco"
   ]
  },
  {
   "cell_type": "code",
   "execution_count": 6,
   "metadata": {
    "collapsed": false
   },
   "outputs": [
    {
     "name": "stderr",
     "output_type": "stream",
     "text": [
      "C:\\Users\\rodrigo.carmo\\Anaconda2\\envs\\dato-env\\lib\\site-packages\\IPython\\kernel\\__main__.py:3: SettingWithCopyWarning: \n",
      "A value is trying to be set on a copy of a slice from a DataFrame.\n",
      "Try using .loc[row_indexer,col_indexer] = value instead\n",
      "\n",
      "See the the caveats in the documentation: http://pandas.pydata.org/pandas-docs/stable/indexing.html#indexing-view-versus-copy\n",
      "  app.launch_new_instance()\n",
      "C:\\Users\\rodrigo.carmo\\Anaconda2\\envs\\dato-env\\lib\\site-packages\\IPython\\kernel\\__main__.py:4: SettingWithCopyWarning: \n",
      "A value is trying to be set on a copy of a slice from a DataFrame.\n",
      "Try using .loc[row_indexer,col_indexer] = value instead\n",
      "\n",
      "See the the caveats in the documentation: http://pandas.pydata.org/pandas-docs/stable/indexing.html#indexing-view-versus-copy\n"
     ]
    }
   ],
   "source": [
    "positivo = data.loc[data['Resposta'].isin(['Sim','Bom',u'Ótimo'])]\n",
    "negativo = data.loc[~data['Resposta'].isin(['Sim','Bom',u'Ótimo'])]\n",
    "positivo['Tempo Decorrido'] = positivo[u'Data de Resolução'] - positivo[u'Data de Abertura']\n",
    "negativo['Tempo Decorrido'] = negativo[u'Data de Resolução'] - negativo[u'Data de Abertura']"
   ]
  },
  {
   "cell_type": "markdown",
   "metadata": {},
   "source": [
    "#Divide o dataset em dois grupos e imprime quais grupos e datasets recebem mais avaliações positivas "
   ]
  },
  {
   "cell_type": "code",
   "execution_count": 7,
   "metadata": {
    "collapsed": false,
    "scrolled": true
   },
   "outputs": [
    {
     "name": "stdout",
     "output_type": "stream",
     "text": [
      "N2 Controle Financeiro TI     0.995413\n",
      "CG - MOBILIDADE RH            0.994709\n",
      "N2 CD                         0.987226\n",
      "CG - FORNECEDOR BENEFÍCIOS    0.983778\n",
      "N3 VIDEOCONFERENCIA           0.980495\n",
      "dtype: float64\n",
      "Cardoso, Gabriel            0.994398\n",
      "Tavares, Nubia Fagundes     0.994342\n",
      "silva, thamyris             0.992063\n",
      "Santos Ribeiro, Alison      0.991667\n",
      "Lima Felix, Roberto         0.990868\n",
      "dtype: float64\n"
     ]
    }
   ],
   "source": [
    "positive_groups = positivo['Grupo'].value_counts()\n",
    "positive_analists = positivo['Analista'].value_counts()\n",
    "negative_groups = negativo['Grupo'].value_counts()\n",
    "negative_analists = negativo['Analista'].value_counts()\n",
    "group_percentage = positive_groups/(positive_groups+negative_groups).dropna()\n",
    "group_percentage.sort(ascending=False)\n",
    "analist_percentage = positive_analists/(positive_analists+negative_analists).dropna()\n",
    "analist_percentage.sort(ascending=False)\n",
    "print group_percentage.head()\n",
    "print analist_percentage.head()"
   ]
  },
  {
   "cell_type": "markdown",
   "metadata": {
    "collapsed": true
   },
   "source": [
    "##Imprime o tempo gasto para resolver um chamado"
   ]
  },
  {
   "cell_type": "code",
   "execution_count": null,
   "metadata": {
    "collapsed": false
   },
   "outputs": [],
   "source": [
    "best = positivo.loc[positivo['Grupo']==positive_groups.index[0]]\n",
    "print best['Tempo Decorrido'].mean()"
   ]
  },
  {
   "cell_type": "code",
   "execution_count": null,
   "metadata": {
    "collapsed": false
   },
   "outputs": [],
   "source": [
    "worst = negativo.loc[negativo['Grupo']==negative_groups.index[0]]\n",
    "print worst['Tempo Decorrido'].mean()"
   ]
  },
  {
   "cell_type": "code",
   "execution_count": null,
   "metadata": {
    "collapsed": false
   },
   "outputs": [],
   "source": [
    "best = positivo.loc[positivo['Analista']==positive_analists.index[0]]\n",
    "print best['Tempo Decorrido'].mean()"
   ]
  },
  {
   "cell_type": "code",
   "execution_count": null,
   "metadata": {
    "collapsed": false
   },
   "outputs": [],
   "source": [
    "worst = negativo.loc[negativo['Analista']==negative_analists.index[0]]\n",
    "print worst['Tempo Decorrido'].mean()"
   ]
  }
 ],
 "metadata": {
  "kernelspec": {
   "display_name": "Python 2",
   "language": "python",
   "name": "python2"
  },
  "language_info": {
   "codemirror_mode": {
    "name": "ipython",
    "version": 2
   },
   "file_extension": ".py",
   "mimetype": "text/x-python",
   "name": "python",
   "nbconvert_exporter": "python",
   "pygments_lexer": "ipython2",
   "version": "2.7.10"
  }
 },
 "nbformat": 4,
 "nbformat_minor": 0
}
