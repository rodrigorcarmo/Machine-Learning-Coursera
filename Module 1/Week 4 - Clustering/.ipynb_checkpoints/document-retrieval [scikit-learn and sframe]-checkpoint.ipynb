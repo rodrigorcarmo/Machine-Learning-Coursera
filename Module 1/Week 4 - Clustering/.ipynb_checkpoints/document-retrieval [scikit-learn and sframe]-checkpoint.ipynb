{
 "cells": [
  {
   "cell_type": "markdown",
   "metadata": {},
   "source": [
    "#Buscando artigos do wikipedia\n",
    "Usando scikit-learn e sframe (opensource)"
   ]
  },
  {
   "cell_type": "code",
   "execution_count": 1,
   "metadata": {
    "collapsed": true
   },
   "outputs": [],
   "source": [
    "import sframe as sf\n",
    "import sklearn\n",
    "import numpy as np"
   ]
  },
  {
   "cell_type": "markdown",
   "metadata": {},
   "source": [
    "##Carregando dados"
   ]
  },
  {
   "cell_type": "code",
   "execution_count": 2,
   "metadata": {
    "collapsed": false
   },
   "outputs": [
    {
     "name": "stderr",
     "output_type": "stream",
     "text": [
      "2016-04-11 13:50:00,191 [INFO] sframe.cython.cy_server, 172: SFrame v1.8.5 started. Logging C:\\Users\\PIETER~1.VOL\\AppData\\Local\\Temp\\sframe_server_1460393399.log.0\n"
     ]
    }
   ],
   "source": [
    "people = sf.SFrame('people_wiki.gl/')"
   ]
  },
  {
   "cell_type": "code",
   "execution_count": 3,
   "metadata": {
    "collapsed": false
   },
   "outputs": [
    {
     "data": {
      "text/html": [
       "<div style=\"max-height:1000px;max-width:1500px;overflow:auto;\"><table frame=\"box\" rules=\"cols\">\n",
       "    <tr>\n",
       "        <th style=\"padding-left: 1em; padding-right: 1em; text-align: center\">URI</th>\n",
       "        <th style=\"padding-left: 1em; padding-right: 1em; text-align: center\">name</th>\n",
       "        <th style=\"padding-left: 1em; padding-right: 1em; text-align: center\">text</th>\n",
       "    </tr>\n",
       "    <tr>\n",
       "        <td style=\"padding-left: 1em; padding-right: 1em; text-align: center; vertical-align: top\">&lt;http://dbpedia.org/resou<br>rce/Digby_Morrell&gt; ...</td>\n",
       "        <td style=\"padding-left: 1em; padding-right: 1em; text-align: center; vertical-align: top\">Digby Morrell</td>\n",
       "        <td style=\"padding-left: 1em; padding-right: 1em; text-align: center; vertical-align: top\">digby morrell born 10<br>october 1979 is a former ...</td>\n",
       "    </tr>\n",
       "    <tr>\n",
       "        <td style=\"padding-left: 1em; padding-right: 1em; text-align: center; vertical-align: top\">&lt;http://dbpedia.org/resou<br>rce/Alfred_J._Lewy&gt; ...</td>\n",
       "        <td style=\"padding-left: 1em; padding-right: 1em; text-align: center; vertical-align: top\">Alfred J. Lewy</td>\n",
       "        <td style=\"padding-left: 1em; padding-right: 1em; text-align: center; vertical-align: top\">alfred j lewy aka sandy<br>lewy graduated from ...</td>\n",
       "    </tr>\n",
       "    <tr>\n",
       "        <td style=\"padding-left: 1em; padding-right: 1em; text-align: center; vertical-align: top\">&lt;http://dbpedia.org/resou<br>rce/Harpdog_Brown&gt; ...</td>\n",
       "        <td style=\"padding-left: 1em; padding-right: 1em; text-align: center; vertical-align: top\">Harpdog Brown</td>\n",
       "        <td style=\"padding-left: 1em; padding-right: 1em; text-align: center; vertical-align: top\">harpdog brown is a singer<br>and harmonica player who ...</td>\n",
       "    </tr>\n",
       "    <tr>\n",
       "        <td style=\"padding-left: 1em; padding-right: 1em; text-align: center; vertical-align: top\">&lt;http://dbpedia.org/resou<br>rce/Franz_Rottensteiner&gt; ...</td>\n",
       "        <td style=\"padding-left: 1em; padding-right: 1em; text-align: center; vertical-align: top\">Franz Rottensteiner</td>\n",
       "        <td style=\"padding-left: 1em; padding-right: 1em; text-align: center; vertical-align: top\">franz rottensteiner born<br>in waidmannsfeld lower ...</td>\n",
       "    </tr>\n",
       "    <tr>\n",
       "        <td style=\"padding-left: 1em; padding-right: 1em; text-align: center; vertical-align: top\">&lt;http://dbpedia.org/resou<br>rce/G-Enka&gt; ...</td>\n",
       "        <td style=\"padding-left: 1em; padding-right: 1em; text-align: center; vertical-align: top\">G-Enka</td>\n",
       "        <td style=\"padding-left: 1em; padding-right: 1em; text-align: center; vertical-align: top\">henry krvits born 30<br>december 1974 in tallinn ...</td>\n",
       "    </tr>\n",
       "    <tr>\n",
       "        <td style=\"padding-left: 1em; padding-right: 1em; text-align: center; vertical-align: top\">&lt;http://dbpedia.org/resou<br>rce/Sam_Henderson&gt; ...</td>\n",
       "        <td style=\"padding-left: 1em; padding-right: 1em; text-align: center; vertical-align: top\">Sam Henderson</td>\n",
       "        <td style=\"padding-left: 1em; padding-right: 1em; text-align: center; vertical-align: top\">sam henderson born<br>october 18 1969 is an ...</td>\n",
       "    </tr>\n",
       "    <tr>\n",
       "        <td style=\"padding-left: 1em; padding-right: 1em; text-align: center; vertical-align: top\">&lt;http://dbpedia.org/resou<br>rce/Aaron_LaCrate&gt; ...</td>\n",
       "        <td style=\"padding-left: 1em; padding-right: 1em; text-align: center; vertical-align: top\">Aaron LaCrate</td>\n",
       "        <td style=\"padding-left: 1em; padding-right: 1em; text-align: center; vertical-align: top\">aaron lacrate is an<br>american music producer ...</td>\n",
       "    </tr>\n",
       "    <tr>\n",
       "        <td style=\"padding-left: 1em; padding-right: 1em; text-align: center; vertical-align: top\">&lt;http://dbpedia.org/resou<br>rce/Trevor_Ferguson&gt; ...</td>\n",
       "        <td style=\"padding-left: 1em; padding-right: 1em; text-align: center; vertical-align: top\">Trevor Ferguson</td>\n",
       "        <td style=\"padding-left: 1em; padding-right: 1em; text-align: center; vertical-align: top\">trevor ferguson aka john<br>farrow born 11 november ...</td>\n",
       "    </tr>\n",
       "    <tr>\n",
       "        <td style=\"padding-left: 1em; padding-right: 1em; text-align: center; vertical-align: top\">&lt;http://dbpedia.org/resou<br>rce/Grant_Nelson&gt; ...</td>\n",
       "        <td style=\"padding-left: 1em; padding-right: 1em; text-align: center; vertical-align: top\">Grant Nelson</td>\n",
       "        <td style=\"padding-left: 1em; padding-right: 1em; text-align: center; vertical-align: top\">grant nelson born 27<br>april 1971 in london  ...</td>\n",
       "    </tr>\n",
       "    <tr>\n",
       "        <td style=\"padding-left: 1em; padding-right: 1em; text-align: center; vertical-align: top\">&lt;http://dbpedia.org/resou<br>rce/Cathy_Caruth&gt; ...</td>\n",
       "        <td style=\"padding-left: 1em; padding-right: 1em; text-align: center; vertical-align: top\">Cathy Caruth</td>\n",
       "        <td style=\"padding-left: 1em; padding-right: 1em; text-align: center; vertical-align: top\">cathy caruth born 1955 is<br>frank h t rhodes ...</td>\n",
       "    </tr>\n",
       "</table>\n",
       "[10 rows x 3 columns]<br/>\n",
       "</div>"
      ],
      "text/plain": [
       "Columns:\n",
       "\tURI\tstr\n",
       "\tname\tstr\n",
       "\ttext\tstr\n",
       "\n",
       "Rows: 10\n",
       "\n",
       "Data:\n",
       "+-------------------------------+---------------------+\n",
       "|              URI              |         name        |\n",
       "+-------------------------------+---------------------+\n",
       "| <http://dbpedia.org/resour... |    Digby Morrell    |\n",
       "| <http://dbpedia.org/resour... |    Alfred J. Lewy   |\n",
       "| <http://dbpedia.org/resour... |    Harpdog Brown    |\n",
       "| <http://dbpedia.org/resour... | Franz Rottensteiner |\n",
       "| <http://dbpedia.org/resour... |        G-Enka       |\n",
       "| <http://dbpedia.org/resour... |    Sam Henderson    |\n",
       "| <http://dbpedia.org/resour... |    Aaron LaCrate    |\n",
       "| <http://dbpedia.org/resour... |   Trevor Ferguson   |\n",
       "| <http://dbpedia.org/resour... |     Grant Nelson    |\n",
       "| <http://dbpedia.org/resour... |     Cathy Caruth    |\n",
       "+-------------------------------+---------------------+\n",
       "+-------------------------------+\n",
       "|              text             |\n",
       "+-------------------------------+\n",
       "| digby morrell born 10 octo... |\n",
       "| alfred j lewy aka sandy le... |\n",
       "| harpdog brown is a singer ... |\n",
       "| franz rottensteiner born i... |\n",
       "| henry krvits born 30 decem... |\n",
       "| sam henderson born october... |\n",
       "| aaron lacrate is an americ... |\n",
       "| trevor ferguson aka john f... |\n",
       "| grant nelson born 27 april... |\n",
       "| cathy caruth born 1955 is ... |\n",
       "+-------------------------------+\n",
       "[10 rows x 3 columns]"
      ]
     },
     "execution_count": 3,
     "metadata": {},
     "output_type": "execute_result"
    }
   ],
   "source": [
    "people.head()"
   ]
  },
  {
   "cell_type": "code",
   "execution_count": 4,
   "metadata": {
    "collapsed": false
   },
   "outputs": [
    {
     "data": {
      "text/plain": [
       "59071"
      ]
     },
     "execution_count": 4,
     "metadata": {},
     "output_type": "execute_result"
    }
   ],
   "source": [
    "len(people)"
   ]
  },
  {
   "cell_type": "markdown",
   "metadata": {},
   "source": [
    "##Explorando os dados\n",
    "###Presidente Obama"
   ]
  },
  {
   "cell_type": "code",
   "execution_count": 5,
   "metadata": {
    "collapsed": true
   },
   "outputs": [],
   "source": [
    "obama = people[people['name'] == 'Barack Obama']"
   ]
  },
  {
   "cell_type": "code",
   "execution_count": 6,
   "metadata": {
    "collapsed": false
   },
   "outputs": [
    {
     "data": {
      "text/html": [
       "<div style=\"max-height:1000px;max-width:1500px;overflow:auto;\"><table frame=\"box\" rules=\"cols\">\n",
       "    <tr>\n",
       "        <th style=\"padding-left: 1em; padding-right: 1em; text-align: center\">URI</th>\n",
       "        <th style=\"padding-left: 1em; padding-right: 1em; text-align: center\">name</th>\n",
       "        <th style=\"padding-left: 1em; padding-right: 1em; text-align: center\">text</th>\n",
       "    </tr>\n",
       "    <tr>\n",
       "        <td style=\"padding-left: 1em; padding-right: 1em; text-align: center; vertical-align: top\">&lt;http://dbpedia.org/resou<br>rce/Barack_Obama&gt; ...</td>\n",
       "        <td style=\"padding-left: 1em; padding-right: 1em; text-align: center; vertical-align: top\">Barack Obama</td>\n",
       "        <td style=\"padding-left: 1em; padding-right: 1em; text-align: center; vertical-align: top\">barack hussein obama ii<br>brk husen bm born august ...</td>\n",
       "    </tr>\n",
       "</table>\n",
       "[? rows x 3 columns]<br/>Note: Only the head of the SFrame is printed. This SFrame is lazily evaluated.<br/>You can use len(sf) to force materialization.\n",
       "</div>"
      ],
      "text/plain": [
       "Columns:\n",
       "\tURI\tstr\n",
       "\tname\tstr\n",
       "\ttext\tstr\n",
       "\n",
       "Rows: Unknown\n",
       "\n",
       "Data:\n",
       "+-------------------------------+--------------+-------------------------------+\n",
       "|              URI              |     name     |              text             |\n",
       "+-------------------------------+--------------+-------------------------------+\n",
       "| <http://dbpedia.org/resour... | Barack Obama | barack hussein obama ii br... |\n",
       "+-------------------------------+--------------+-------------------------------+\n",
       "[? rows x 3 columns]\n",
       "Note: Only the head of the SFrame is printed. This SFrame is lazily evaluated.\n",
       "You can use len(sf) to force materialization."
      ]
     },
     "execution_count": 6,
     "metadata": {},
     "output_type": "execute_result"
    }
   ],
   "source": [
    "obama"
   ]
  },
  {
   "cell_type": "code",
   "execution_count": 7,
   "metadata": {
    "collapsed": false
   },
   "outputs": [
    {
     "data": {
      "text/plain": [
       "dtype: str\n",
       "Rows: ?\n",
       "['barack hussein obama ii brk husen bm born august 4 1961 is the 44th and current president of the united states and the first african american to hold the office born in honolulu hawaii obama is a graduate of columbia university and harvard law school where he served as president of the harvard law review he was a community organizer in chicago before earning his law degree he worked as a civil rights attorney and taught constitutional law at the university of chicago law school from 1992 to 2004 he served three terms representing the 13th district in the illinois senate from 1997 to 2004 running unsuccessfully for the united states house of representatives in 2000in 2004 obama received national attention during his campaign to represent illinois in the united states senate with his victory in the march democratic party primary his keynote address at the democratic national convention in july and his election to the senate in november he began his presidential campaign in 2007 and after a close primary campaign against hillary rodham clinton in 2008 he won sufficient delegates in the democratic party primaries to receive the presidential nomination he then defeated republican nominee john mccain in the general election and was inaugurated as president on january 20 2009 nine months after his election obama was named the 2009 nobel peace prize laureateduring his first two years in office obama signed into law economic stimulus legislation in response to the great recession in the form of the american recovery and reinvestment act of 2009 and the tax relief unemployment insurance reauthorization and job creation act of 2010 other major domestic initiatives in his first term included the patient protection and affordable care act often referred to as obamacare the doddfrank wall street reform and consumer protection act and the dont ask dont tell repeal act of 2010 in foreign policy obama ended us military involvement in the iraq war increased us troop levels in afghanistan signed the new start arms control treaty with russia ordered us military involvement in libya and ordered the military operation that resulted in the death of osama bin laden in january 2011 the republicans regained control of the house of representatives as the democratic party lost a total of 63 seats and after a lengthy debate over federal spending and whether or not to raise the nations debt limit obama signed the budget control act of 2011 and the american taxpayer relief act of 2012obama was reelected president in november 2012 defeating republican nominee mitt romney and was sworn in for a second term on january 20 2013 during his second term obama has promoted domestic policies related to gun control in response to the sandy hook elementary school shooting and has called for full equality for lgbt americans while his administration has filed briefs which urged the supreme court to strike down the defense of marriage act of 1996 and californias proposition 8 as unconstitutional in foreign policy obama ordered us military involvement in iraq in response to gains made by the islamic state in iraq after the 2011 withdrawal from iraq continued the process of ending us combat operations in afghanistan and has sought to normalize us relations with cuba', ... ]"
      ]
     },
     "execution_count": 7,
     "metadata": {},
     "output_type": "execute_result"
    }
   ],
   "source": [
    "obama['text']"
   ]
  },
  {
   "cell_type": "markdown",
   "metadata": {},
   "source": [
    "###Ator George Clooney"
   ]
  },
  {
   "cell_type": "code",
   "execution_count": 8,
   "metadata": {
    "collapsed": false
   },
   "outputs": [
    {
     "data": {
      "text/plain": [
       "dtype: str\n",
       "Rows: ?\n",
       "['george timothy clooney born may 6 1961 is an american actor writer producer director and activist he has received three golden globe awards for his work as an actor and two academy awards one for acting and the other for producingclooney made his acting debut on television in 1978 and later gained wide recognition in his role as dr doug ross on the longrunning medical drama er from 1994 to 1999 for which he received two emmy award nominations while working on er he began attracting a variety of leading roles in films including the superhero film batman robin 1997 and the crime comedy out of sight 1998 in which he first worked with a director who would become a longtime collaborator steven soderbergh in 1999 clooney took the lead role in three kings a wellreceived war satire set during the gulf warin 2001 clooneys fame widened with the release of his biggest commercial success the heist comedy oceans eleven the first of the film trilogy a remake of the 1960 film with frank sinatra as danny ocean he made his directorial debut a year later with the biographical thriller confessions of a dangerous mind and has since directed the drama good night and good luck 2005 the sports comedy leatherheads 2008 the political drama the ides of march 2011 and the comedydrama war film the monuments men 2014he won an academy award for best supporting actor for the middle east thriller syriana 2005 and subsequently earned best actor nominations for the legal thriller michael clayton 2007 the comedydrama up in the air 2009 and the drama the descendants 2011 in 2013 he received the academy award for best picture for producing the political thriller argo alongside ben affleck and grant heslov he is the only person ever to be nominated for academy awards in six categoriesclooney is sometimes described as one of the most handsome men in the world in 2005 tv guide ranked clooney no 1 on its 50 sexiest stars of all time list in 2009 he was included in times annual time 100 as one of the most influential people in the world clooney is also noted for his political activism and has served as one of the united nations messengers of peace since january 31 2008 his humanitarian work includes his advocacy of finding a resolution for the darfur conflict raising funds for the 2010 haiti earthquake 2004 tsunami and 911 victims and creating documentaries such as sand and sorrow to raise awareness about international crises he is also a member of the council on foreign relations', ... ]"
      ]
     },
     "execution_count": 8,
     "metadata": {},
     "output_type": "execute_result"
    }
   ],
   "source": [
    "clooney = people[people['name'] == 'George Clooney']\n",
    "clooney['text']"
   ]
  },
  {
   "cell_type": "markdown",
   "metadata": {},
   "source": [
    "###Contando palavras\n",
    "Desenvolvi um método para a contagem das palavras, similar ao graphlab, mas para o modelo esse método não será utilizado. No lugar, usaremos CountVectorizer do scikit-learn."
   ]
  },
  {
   "cell_type": "code",
   "execution_count": 9,
   "metadata": {
    "collapsed": true
   },
   "outputs": [],
   "source": [
    "def count_words(data) :\n",
    "    from collections import Counter\n",
    "    return data.apply(lambda r: dict(Counter(r.split())))"
   ]
  },
  {
   "cell_type": "code",
   "execution_count": 10,
   "metadata": {
    "collapsed": false
   },
   "outputs": [
    {
     "name": "stdout",
     "output_type": "stream",
     "text": [
      "[{'operations': 1L, 'represent': 1L, 'peace': 1L, 'office': 2L, 'unemployment': 1L, 'doddfrank': 1L, 'over': 1L, 'unconstitutional': 1L, 'domestic': 2L, 'major': 1L, 'ending': 1L, 'ended': 1L, 'proposition': 1L, 'seats': 1L, 'graduate': 1L, 'debate': 1L, 'before': 1L, 'death': 1L, '20': 2L, 'taxpayer': 1L, 'with': 3L, 'obamacare': 1L, 'civil': 1L, '2009': 3L, 'barack': 1L, 'to': 14L, '4': 1L, 'policy': 2L, '8': 1L, 'has': 4L, '2011': 3L, '2010': 2L, '2013': 1L, '2012': 1L, 'bin': 1L, 'then': 1L, '13th': 1L, 'his': 11L, 'march': 1L, 'gains': 1L, 'cuba': 1L, 'school': 3L, 'primary': 2L, 'made': 1L, 'not': 1L, 'during': 2L, 'years': 1L, 'continued': 1L, 'presidential': 2L, 'husen': 1L, 'down': 1L, 'californias': 1L, 'equality': 1L, 'prize': 1L, 'lost': 1L, 'called': 1L, 'stimulus': 1L, 'january': 3L, 'university': 2L, '1996': 1L, 'july': 1L, 'hawaii': 1L, 'us': 6L, 'troop': 1L, 'withdrawal': 1L, 'involvement': 3L, 'where': 1L, 'referred': 1L, 'unsuccessfully': 1L, 'republican': 2L, 'on': 2L, 'often': 1L, 'senate': 3L, 'regained': 1L, 'national': 2L, 'creation': 1L, 'related': 1L, 'gun': 1L, 'born': 2L, 'second': 2L, 'street': 1L, 'election': 3L, 'close': 1L, 'operation': 1L, 'nations': 1L, 'insurance': 1L, 'sandy': 1L, 'afghanistan': 2L, 'initiatives': 1L, 'for': 4L, 'chicago': 2L, 'federal': 1L, 'review': 1L, 'representatives': 2L, 'repeal': 1L, 'current': 1L, 'state': 1L, 'won': 1L, 'americans': 1L, 'new': 1L, 'victory': 1L, 'affordable': 1L, 'reauthorization': 1L, 'keynote': 1L, 'full': 1L, 'terms': 1L, 'august': 1L, 'degree': 1L, '44th': 1L, 'bm': 1L, 'mitt': 1L, 'attention': 1L, 'delegates': 1L, 'lgbt': 1L, 'job': 1L, 'protection': 2L, 'included': 1L, 'term': 3L, 'address': 1L, 'ask': 1L, 'november': 2L, 'iraq': 4L, 'by': 1L, 'care': 1L, 'rodham': 1L, 'great': 1L, 'libya': 1L, 'receive': 1L, 'of': 18L, 'months': 1L, 'against': 1L, 'foreign': 2L, 'american': 3L, 'harvard': 2L, 'economic': 1L, 'act': 8L, 'military': 4L, 'hussein': 1L, 'or': 1L, 'first': 3L, 'and': 21L, 'named': 1L, 'clinton': 1L, 'dont': 2L, 'campaign': 3L, 'wall': 1L, 'reinvestment': 1L, 'into': 1L, 'attorney': 1L, 'community': 1L, 'mccain': 1L, 'osama': 1L, 'hook': 1L, '63': 1L, 'brk': 1L, 'elementary': 1L, 'total': 1L, 'earning': 1L, 'debt': 1L, 'from': 3L, 'raise': 1L, 'district': 1L, 'spending': 1L, 'legislation': 1L, 'three': 1L, 'relations': 1L, 'nobel': 1L, 'start': 1L, 'house': 2L, 'strike': 1L, 'served': 2L, 'john': 1L, 'was': 5L, 'tell': 1L, 'form': 1L, 'received': 1L, 'romney': 1L, 'sufficient': 1L, 'republicans': 1L, 'convention': 1L, 'resulted': 1L, 'hillary': 1L, 'taught': 1L, 'arms': 1L, 'honolulu': 1L, 'filed': 1L, 'worked': 1L, 'hold': 1L, 'inaugurated': 1L, 'he': 7L, 'states': 3L, '1992': 1L, '1997': 1L, 'rights': 1L, 'whether': 1L, 'reelected': 1L, 'representing': 1L, 'budget': 1L, 'signed': 3L, 'war': 1L, 'recession': 1L, 'while': 1L, 'defense': 1L, 'nine': 1L, 'policies': 1L, 'promoted': 1L, 'russia': 1L, 'at': 2L, 'control': 4L, 'supreme': 1L, 'ordered': 3L, 'nominee': 2L, 'process': 1L, '2000in': 1L, 'is': 2L, 'tax': 1L, 'briefs': 1L, 'defeated': 1L, 'general': 1L, 'ii': 1L, 'as': 6L, 'urged': 1L, 'in': 30L, 'sought': 1L, 'limit': 1L, 'organizer': 1L, 'shooting': 1L, '2012obama': 1L, 'increased': 1L, 'normalize': 1L, 'lengthy': 1L, 'united': 3L, 'court': 1L, 'recovery': 1L, 'laden': 1L, 'began': 1L, 'that': 1L, 'administration': 1L, '1961': 1L, 'illinois': 2L, 'other': 1L, 'patient': 1L, 'which': 1L, 'party': 3L, 'primaries': 1L, 'sworn': 1L, '2007': 1L, 'obama': 9L, 'columbia': 1L, 'combat': 1L, 'after': 4L, 'islamic': 1L, 'running': 1L, 'levels': 1L, 'two': 1L, 'marriage': 1L, 'president': 4L, 'law': 6L, 'nomination': 1L, 'response': 3L, 'a': 7L, '2008': 1L, 'reform': 1L, 'constitutional': 1L, 'defeating': 1L, 'treaty': 1L, 'relief': 2L, '2004': 3L, 'african': 1L, 'the': 40L, 'democratic': 4L, 'consumer': 1L, 'laureateduring': 1L}]\n"
     ]
    }
   ],
   "source": [
    "obama['word_count'] = count_words(obama['text'])\n",
    "print obama['word_count']"
   ]
  },
  {
   "cell_type": "markdown",
   "metadata": {},
   "source": [
    "###Ordenando a contagem de palavras\n",
    "####Tornando o dicionário em tabela"
   ]
  },
  {
   "cell_type": "code",
   "execution_count": 11,
   "metadata": {
    "collapsed": false
   },
   "outputs": [
    {
     "data": {
      "text/html": [
       "<div style=\"max-height:1000px;max-width:1500px;overflow:auto;\"><table frame=\"box\" rules=\"cols\">\n",
       "    <tr>\n",
       "        <th style=\"padding-left: 1em; padding-right: 1em; text-align: center\">word</th>\n",
       "        <th style=\"padding-left: 1em; padding-right: 1em; text-align: center\">count</th>\n",
       "    </tr>\n",
       "    <tr>\n",
       "        <td style=\"padding-left: 1em; padding-right: 1em; text-align: center; vertical-align: top\">the</td>\n",
       "        <td style=\"padding-left: 1em; padding-right: 1em; text-align: center; vertical-align: top\">40</td>\n",
       "    </tr>\n",
       "    <tr>\n",
       "        <td style=\"padding-left: 1em; padding-right: 1em; text-align: center; vertical-align: top\">in</td>\n",
       "        <td style=\"padding-left: 1em; padding-right: 1em; text-align: center; vertical-align: top\">30</td>\n",
       "    </tr>\n",
       "    <tr>\n",
       "        <td style=\"padding-left: 1em; padding-right: 1em; text-align: center; vertical-align: top\">and</td>\n",
       "        <td style=\"padding-left: 1em; padding-right: 1em; text-align: center; vertical-align: top\">21</td>\n",
       "    </tr>\n",
       "    <tr>\n",
       "        <td style=\"padding-left: 1em; padding-right: 1em; text-align: center; vertical-align: top\">of</td>\n",
       "        <td style=\"padding-left: 1em; padding-right: 1em; text-align: center; vertical-align: top\">18</td>\n",
       "    </tr>\n",
       "    <tr>\n",
       "        <td style=\"padding-left: 1em; padding-right: 1em; text-align: center; vertical-align: top\">to</td>\n",
       "        <td style=\"padding-left: 1em; padding-right: 1em; text-align: center; vertical-align: top\">14</td>\n",
       "    </tr>\n",
       "    <tr>\n",
       "        <td style=\"padding-left: 1em; padding-right: 1em; text-align: center; vertical-align: top\">his</td>\n",
       "        <td style=\"padding-left: 1em; padding-right: 1em; text-align: center; vertical-align: top\">11</td>\n",
       "    </tr>\n",
       "    <tr>\n",
       "        <td style=\"padding-left: 1em; padding-right: 1em; text-align: center; vertical-align: top\">obama</td>\n",
       "        <td style=\"padding-left: 1em; padding-right: 1em; text-align: center; vertical-align: top\">9</td>\n",
       "    </tr>\n",
       "    <tr>\n",
       "        <td style=\"padding-left: 1em; padding-right: 1em; text-align: center; vertical-align: top\">act</td>\n",
       "        <td style=\"padding-left: 1em; padding-right: 1em; text-align: center; vertical-align: top\">8</td>\n",
       "    </tr>\n",
       "    <tr>\n",
       "        <td style=\"padding-left: 1em; padding-right: 1em; text-align: center; vertical-align: top\">he</td>\n",
       "        <td style=\"padding-left: 1em; padding-right: 1em; text-align: center; vertical-align: top\">7</td>\n",
       "    </tr>\n",
       "    <tr>\n",
       "        <td style=\"padding-left: 1em; padding-right: 1em; text-align: center; vertical-align: top\">a</td>\n",
       "        <td style=\"padding-left: 1em; padding-right: 1em; text-align: center; vertical-align: top\">7</td>\n",
       "    </tr>\n",
       "</table>\n",
       "[273 rows x 2 columns]<br/>Note: Only the head of the SFrame is printed.<br/>You can use print_rows(num_rows=m, num_columns=n) to print more rows and columns.\n",
       "</div>"
      ],
      "text/plain": [
       "Columns:\n",
       "\tword\tstr\n",
       "\tcount\tint\n",
       "\n",
       "Rows: 273\n",
       "\n",
       "Data:\n",
       "+-------+-------+\n",
       "|  word | count |\n",
       "+-------+-------+\n",
       "|  the  |   40  |\n",
       "|   in  |   30  |\n",
       "|  and  |   21  |\n",
       "|   of  |   18  |\n",
       "|   to  |   14  |\n",
       "|  his  |   11  |\n",
       "| obama |   9   |\n",
       "|  act  |   8   |\n",
       "|   he  |   7   |\n",
       "|   a   |   7   |\n",
       "+-------+-------+\n",
       "[273 rows x 2 columns]\n",
       "Note: Only the head of the SFrame is printed.\n",
       "You can use print_rows(num_rows=m, num_columns=n) to print more rows and columns."
      ]
     },
     "execution_count": 11,
     "metadata": {},
     "output_type": "execute_result"
    }
   ],
   "source": [
    "obama[['word_count']].stack('word_count', new_column_name = ['word','count']).sort('count',ascending=False)"
   ]
  },
  {
   "cell_type": "markdown",
   "metadata": {},
   "source": [
    "###Contando palavras com CountVectorizer"
   ]
  },
  {
   "cell_type": "code",
   "execution_count": 12,
   "metadata": {
    "collapsed": true
   },
   "outputs": [],
   "source": [
    "from sklearn.feature_extraction.text import CountVectorizer\n",
    "word_count_vect = CountVectorizer(token_pattern=r'(?u)\\b\\w+\\w*\\b')\n",
    "features = word_count_vect.fit_transform(obama['text'])"
   ]
  },
  {
   "cell_type": "code",
   "execution_count": 13,
   "metadata": {
    "collapsed": false
   },
   "outputs": [
    {
     "data": {
      "text/plain": [
       "<1x273 sparse matrix of type '<type 'numpy.int64'>'\n",
       "\twith 273 stored elements in Compressed Sparse Row format>"
      ]
     },
     "execution_count": 13,
     "metadata": {},
     "output_type": "execute_result"
    }
   ],
   "source": [
    "features"
   ]
  },
  {
   "cell_type": "code",
   "execution_count": 14,
   "metadata": {
    "collapsed": false
   },
   "outputs": [
    {
     "name": "stdout",
     "output_type": "stream",
     "text": [
      "[u'13th', u'1961', u'1992', u'1996', u'1997', u'20', u'2000in', u'2004', u'2007', u'2008', u'2009', u'2010', u'2011', u'2012', u'2012obama', u'2013', u'4', u'44th', u'63', u'8', u'a', u'act', u'address', u'administration', u'affordable', u'afghanistan', u'african', u'after', u'against', u'american', u'americans', u'and', u'arms', u'as', u'ask', u'at', u'attention', u'attorney', u'august', u'barack', u'before', u'began', u'bin', u'bm', u'born', u'briefs', u'brk', u'budget', u'by', u'californias', u'called', u'campaign', u'care', u'chicago', u'civil', u'clinton', u'close', u'columbia', u'combat', u'community', u'constitutional', u'consumer', u'continued', u'control', u'convention', u'court', u'creation', u'cuba', u'current', u'death', u'debate', u'debt', u'defeated', u'defeating', u'defense', u'degree', u'delegates', u'democratic', u'district', u'doddfrank', u'domestic', u'dont', u'down', u'during', u'earning', u'economic', u'election', u'elementary', u'ended', u'ending', u'equality', u'federal', u'filed', u'first', u'for', u'foreign', u'form', u'from', u'full', u'gains', u'general', u'graduate', u'great', u'gun', u'harvard', u'has', u'hawaii', u'he', u'hillary', u'his', u'hold', u'honolulu', u'hook', u'house', u'husen', u'hussein', u'ii', u'illinois', u'in', u'inaugurated', u'included', u'increased', u'initiatives', u'insurance', u'into', u'involvement', u'iraq', u'is', u'islamic', u'january', u'job', u'john', u'july', u'keynote', u'laden', u'laureateduring', u'law', u'legislation', u'lengthy', u'levels', u'lgbt', u'libya', u'limit', u'lost', u'made', u'major', u'march', u'marriage', u'mccain', u'military', u'mitt', u'months', u'named', u'national', u'nations', u'new', u'nine', u'nobel', u'nomination', u'nominee', u'normalize', u'not', u'november', u'obama', u'obamacare', u'of', u'office', u'often', u'on', u'operation', u'operations', u'or', u'ordered', u'organizer', u'osama', u'other', u'over', u'party', u'patient', u'peace', u'policies', u'policy', u'president', u'presidential', u'primaries', u'primary', u'prize', u'process', u'promoted', u'proposition', u'protection', u'raise', u'reauthorization', u'receive', u'received', u'recession', u'recovery', u'reelected', u'referred', u'reform', u'regained', u'reinvestment', u'related', u'relations', u'relief', u'repeal', u'represent', u'representatives', u'representing', u'republican', u'republicans', u'response', u'resulted', u'review', u'rights', u'rodham', u'romney', u'running', u'russia', u'sandy', u'school', u'seats', u'second', u'senate', u'served', u'shooting', u'signed', u'sought', u'spending', u'start', u'state', u'states', u'stimulus', u'street', u'strike', u'sufficient', u'supreme', u'sworn', u'taught', u'tax', u'taxpayer', u'tell', u'term', u'terms', u'that', u'the', u'then', u'three', u'to', u'total', u'treaty', u'troop', u'two', u'unconstitutional', u'unemployment', u'united', u'university', u'unsuccessfully', u'urged', u'us', u'victory', u'wall', u'war', u'was', u'where', u'whether', u'which', u'while', u'with', u'withdrawal', u'won', u'worked', u'years']\n"
     ]
    }
   ],
   "source": [
    "vocab = word_count_vect.get_feature_names()\n",
    "print vocab"
   ]
  },
  {
   "cell_type": "code",
   "execution_count": 15,
   "metadata": {
    "collapsed": false
   },
   "outputs": [
    {
     "data": {
      "text/plain": [
       "array([ 1,  1,  1,  1,  1,  2,  1,  3,  1,  1,  3,  2,  3,  1,  1,  1,  1,\n",
       "        1,  1,  1,  7,  8,  1,  1,  1,  2,  1,  4,  1,  3,  1, 21,  1,  6,\n",
       "        1,  2,  1,  1,  1,  1,  1,  1,  1,  1,  2,  1,  1,  1,  1,  1,  1,\n",
       "        3,  1,  2,  1,  1,  1,  1,  1,  1,  1,  1,  1,  4,  1,  1,  1,  1,\n",
       "        1,  1,  1,  1,  1,  1,  1,  1,  1,  4,  1,  1,  2,  2,  1,  2,  1,\n",
       "        1,  3,  1,  1,  1,  1,  1,  1,  3,  4,  2,  1,  3,  1,  1,  1,  1,\n",
       "        1,  1,  2,  4,  1,  7,  1, 11,  1,  1,  1,  2,  1,  1,  1,  2, 30,\n",
       "        1,  1,  1,  1,  1,  1,  3,  4,  2,  1,  3,  1,  1,  1,  1,  1,  1,\n",
       "        6,  1,  1,  1,  1,  1,  1,  1,  1,  1,  1,  1,  1,  4,  1,  1,  1,\n",
       "        2,  1,  1,  1,  1,  1,  2,  1,  1,  2,  9,  1, 18,  2,  1,  2,  1,\n",
       "        1,  1,  3,  1,  1,  1,  1,  3,  1,  1,  1,  2,  4,  2,  1,  2,  1,\n",
       "        1,  1,  1,  2,  1,  1,  1,  1,  1,  1,  1,  1,  1,  1,  1,  1,  1,\n",
       "        2,  1,  1,  2,  1,  2,  1,  3,  1,  1,  1,  1,  1,  1,  1,  1,  3,\n",
       "        1,  2,  3,  2,  1,  3,  1,  1,  1,  1,  3,  1,  1,  1,  1,  1,  1,\n",
       "        1,  1,  1,  1,  3,  1,  1, 40,  1,  1, 14,  1,  1,  1,  1,  1,  1,\n",
       "        3,  2,  1,  1,  6,  1,  1,  1,  5,  1,  1,  1,  1,  3,  1,  1,  1,\n",
       "        1], dtype=int64)"
      ]
     },
     "execution_count": 15,
     "metadata": {},
     "output_type": "execute_result"
    }
   ],
   "source": [
    "count = np.sum(features.toarray(), axis=0)\n",
    "count"
   ]
  },
  {
   "cell_type": "code",
   "execution_count": 16,
   "metadata": {
    "collapsed": false
   },
   "outputs": [
    {
     "data": {
      "text/html": [
       "<div style=\"max-height:1000px;max-width:1500px;overflow:auto;\"><table frame=\"box\" rules=\"cols\">\n",
       "    <tr>\n",
       "        <th style=\"padding-left: 1em; padding-right: 1em; text-align: center\">count</th>\n",
       "        <th style=\"padding-left: 1em; padding-right: 1em; text-align: center\">word</th>\n",
       "    </tr>\n",
       "    <tr>\n",
       "        <td style=\"padding-left: 1em; padding-right: 1em; text-align: center; vertical-align: top\">40</td>\n",
       "        <td style=\"padding-left: 1em; padding-right: 1em; text-align: center; vertical-align: top\">the</td>\n",
       "    </tr>\n",
       "    <tr>\n",
       "        <td style=\"padding-left: 1em; padding-right: 1em; text-align: center; vertical-align: top\">30</td>\n",
       "        <td style=\"padding-left: 1em; padding-right: 1em; text-align: center; vertical-align: top\">in</td>\n",
       "    </tr>\n",
       "    <tr>\n",
       "        <td style=\"padding-left: 1em; padding-right: 1em; text-align: center; vertical-align: top\">21</td>\n",
       "        <td style=\"padding-left: 1em; padding-right: 1em; text-align: center; vertical-align: top\">and</td>\n",
       "    </tr>\n",
       "    <tr>\n",
       "        <td style=\"padding-left: 1em; padding-right: 1em; text-align: center; vertical-align: top\">18</td>\n",
       "        <td style=\"padding-left: 1em; padding-right: 1em; text-align: center; vertical-align: top\">of</td>\n",
       "    </tr>\n",
       "    <tr>\n",
       "        <td style=\"padding-left: 1em; padding-right: 1em; text-align: center; vertical-align: top\">14</td>\n",
       "        <td style=\"padding-left: 1em; padding-right: 1em; text-align: center; vertical-align: top\">to</td>\n",
       "    </tr>\n",
       "    <tr>\n",
       "        <td style=\"padding-left: 1em; padding-right: 1em; text-align: center; vertical-align: top\">11</td>\n",
       "        <td style=\"padding-left: 1em; padding-right: 1em; text-align: center; vertical-align: top\">his</td>\n",
       "    </tr>\n",
       "    <tr>\n",
       "        <td style=\"padding-left: 1em; padding-right: 1em; text-align: center; vertical-align: top\">9</td>\n",
       "        <td style=\"padding-left: 1em; padding-right: 1em; text-align: center; vertical-align: top\">obama</td>\n",
       "    </tr>\n",
       "    <tr>\n",
       "        <td style=\"padding-left: 1em; padding-right: 1em; text-align: center; vertical-align: top\">8</td>\n",
       "        <td style=\"padding-left: 1em; padding-right: 1em; text-align: center; vertical-align: top\">act</td>\n",
       "    </tr>\n",
       "    <tr>\n",
       "        <td style=\"padding-left: 1em; padding-right: 1em; text-align: center; vertical-align: top\">7</td>\n",
       "        <td style=\"padding-left: 1em; padding-right: 1em; text-align: center; vertical-align: top\">a</td>\n",
       "    </tr>\n",
       "    <tr>\n",
       "        <td style=\"padding-left: 1em; padding-right: 1em; text-align: center; vertical-align: top\">7</td>\n",
       "        <td style=\"padding-left: 1em; padding-right: 1em; text-align: center; vertical-align: top\">he</td>\n",
       "    </tr>\n",
       "</table>\n",
       "[273 rows x 2 columns]<br/>Note: Only the head of the SFrame is printed.<br/>You can use print_rows(num_rows=m, num_columns=n) to print more rows and columns.\n",
       "</div>"
      ],
      "text/plain": [
       "Columns:\n",
       "\tcount\tint\n",
       "\tword\tstr\n",
       "\n",
       "Rows: 273\n",
       "\n",
       "Data:\n",
       "+-------+-------+\n",
       "| count |  word |\n",
       "+-------+-------+\n",
       "|   40  |  the  |\n",
       "|   30  |   in  |\n",
       "|   21  |  and  |\n",
       "|   18  |   of  |\n",
       "|   14  |   to  |\n",
       "|   11  |  his  |\n",
       "|   9   | obama |\n",
       "|   8   |  act  |\n",
       "|   7   |   a   |\n",
       "|   7   |   he  |\n",
       "+-------+-------+\n",
       "[273 rows x 2 columns]\n",
       "Note: Only the head of the SFrame is printed.\n",
       "You can use print_rows(num_rows=m, num_columns=n) to print more rows and columns."
      ]
     },
     "execution_count": 16,
     "metadata": {},
     "output_type": "execute_result"
    }
   ],
   "source": [
    "sf.SFrame({'word':vocab, 'count':count}).sort('count',ascending=False)"
   ]
  },
  {
   "cell_type": "markdown",
   "metadata": {},
   "source": [
    "O resultado foi muito parecido. Tenho que ver depois como criar um sframe com dicionário, mas mantendo a ordenação indicada de colunas."
   ]
  },
  {
   "cell_type": "markdown",
   "metadata": {},
   "source": [
    "##Calculando o TF-IDF"
   ]
  },
  {
   "cell_type": "code",
   "execution_count": 17,
   "metadata": {
    "collapsed": false
   },
   "outputs": [],
   "source": [
    "from sklearn.feature_extraction.text import TfidfVectorizer\n",
    "tfidf = TfidfVectorizer(token_pattern=ur'(?u)\\b\\w+\\w*\\b', stop_words=[], norm=None)"
   ]
  },
  {
   "cell_type": "code",
   "execution_count": 18,
   "metadata": {
    "collapsed": false
   },
   "outputs": [],
   "source": [
    "dtm = tfidf.fit_transform(people['text'])"
   ]
  },
  {
   "cell_type": "markdown",
   "metadata": {},
   "source": [
    "Descobri um erro no scikit-learn. A fórmula usada para TF-IDF está sendo log((1+N)/(1+df))+1. Esse '+1' no final está arrebentando o resultado, deixando termos frequentes com resultados altos. Para resolver isso, entendo que o +1 tem o mesmo peso da contagem de termos."
   ]
  },
  {
   "cell_type": "code",
   "execution_count": 19,
   "metadata": {
    "collapsed": true
   },
   "outputs": [],
   "source": [
    "if format(sklearn.__version__) <= '0.16.1' :\n",
    "    from sklearn.feature_extraction.text import CountVectorizer\n",
    "    count = CountVectorizer(token_pattern=ur'(?u)\\b\\w+\\w*\\b', stop_words=[])\n",
    "    dtm = dtm - count.fit_transform(people['text'])"
   ]
  },
  {
   "cell_type": "code",
   "execution_count": 20,
   "metadata": {
    "collapsed": false
   },
   "outputs": [
    {
     "data": {
      "text/plain": [
       "(59071, 547979)"
      ]
     },
     "execution_count": 20,
     "metadata": {},
     "output_type": "execute_result"
    }
   ],
   "source": [
    "dtm.shape"
   ]
  },
  {
   "cell_type": "code",
   "execution_count": 22,
   "metadata": {
    "collapsed": false
   },
   "outputs": [
    {
     "name": "stdout",
     "output_type": "stream",
     "text": [
      "[u'0', u'00', u'000', u'0000', u'00000', u'00000van', u'0001', u'00014338', u'0001sec', u'0002', u'00026', u'0003', u'0005', u'000577', u'0005sec', u'0006', u'0007', u'0007105916', u'0007200374', u'0007207328']\n"
     ]
    }
   ],
   "source": [
    "features = tfidf.get_feature_names()\n",
    "print features[:20]"
   ]
  },
  {
   "cell_type": "markdown",
   "metadata": {},
   "source": [
    "###Calculando do Obama"
   ]
  },
  {
   "cell_type": "code",
   "execution_count": 23,
   "metadata": {
    "collapsed": false
   },
   "outputs": [
    {
     "data": {
      "text/html": [
       "<div style=\"max-height:1000px;max-width:1500px;overflow:auto;\"><table frame=\"box\" rules=\"cols\">\n",
       "    <tr>\n",
       "        <th style=\"padding-left: 1em; padding-right: 1em; text-align: center\">URI</th>\n",
       "        <th style=\"padding-left: 1em; padding-right: 1em; text-align: center\">name</th>\n",
       "        <th style=\"padding-left: 1em; padding-right: 1em; text-align: center\">text</th>\n",
       "        <th style=\"padding-left: 1em; padding-right: 1em; text-align: center\">word_count</th>\n",
       "    </tr>\n",
       "    <tr>\n",
       "        <td style=\"padding-left: 1em; padding-right: 1em; text-align: center; vertical-align: top\">&lt;http://dbpedia.org/resou<br>rce/Barack_Obama&gt; ...</td>\n",
       "        <td style=\"padding-left: 1em; padding-right: 1em; text-align: center; vertical-align: top\">Barack Obama</td>\n",
       "        <td style=\"padding-left: 1em; padding-right: 1em; text-align: center; vertical-align: top\">barack hussein obama ii<br>brk husen bm born august ...</td>\n",
       "        <td style=\"padding-left: 1em; padding-right: 1em; text-align: center; vertical-align: top\">{'operations': 1L,<br>'represent': 1L, 'pea ...</td>\n",
       "    </tr>\n",
       "</table>\n",
       "[1 rows x 4 columns]<br/>\n",
       "</div>"
      ],
      "text/plain": [
       "Columns:\n",
       "\tURI\tstr\n",
       "\tname\tstr\n",
       "\ttext\tstr\n",
       "\tword_count\tdict\n",
       "\n",
       "Rows: 1\n",
       "\n",
       "Data:\n",
       "+-------------------------------+--------------+-------------------------------+\n",
       "|              URI              |     name     |              text             |\n",
       "+-------------------------------+--------------+-------------------------------+\n",
       "| <http://dbpedia.org/resour... | Barack Obama | barack hussein obama ii br... |\n",
       "+-------------------------------+--------------+-------------------------------+\n",
       "+-------------------------------+\n",
       "|           word_count          |\n",
       "+-------------------------------+\n",
       "| {'operations': 1L, 'repres... |\n",
       "+-------------------------------+\n",
       "[1 rows x 4 columns]"
      ]
     },
     "execution_count": 23,
     "metadata": {},
     "output_type": "execute_result"
    }
   ],
   "source": [
    "obama"
   ]
  },
  {
   "cell_type": "code",
   "execution_count": 24,
   "metadata": {
    "collapsed": false
   },
   "outputs": [],
   "source": [
    "people_indexes = {}\n",
    "index = 0\n",
    "for p in people :\n",
    "    people_indexes[p['name']] = index\n",
    "    index += 1"
   ]
  },
  {
   "cell_type": "code",
   "execution_count": 25,
   "metadata": {
    "collapsed": false
   },
   "outputs": [],
   "source": [
    "obama_index = people_indexes[obama['name'][0]]"
   ]
  },
  {
   "cell_type": "code",
   "execution_count": 26,
   "metadata": {
    "collapsed": true
   },
   "outputs": [],
   "source": [
    "word_scores = {}\n",
    "for word in vocab :\n",
    "    if word in features :\n",
    "        word_scores[word] = dtm[obama_index, features.index(word)]"
   ]
  },
  {
   "cell_type": "code",
   "execution_count": 27,
   "metadata": {
    "collapsed": false
   },
   "outputs": [
    {
     "data": {
      "text/html": [
       "<div style=\"max-height:1000px;max-width:1500px;overflow:auto;\"><table frame=\"box\" rules=\"cols\">\n",
       "    <tr>\n",
       "        <th style=\"padding-left: 1em; padding-right: 1em; text-align: center\">feature</th>\n",
       "        <th style=\"padding-left: 1em; padding-right: 1em; text-align: center\">tfidf</th>\n",
       "    </tr>\n",
       "    <tr>\n",
       "        <td style=\"padding-left: 1em; padding-right: 1em; text-align: center; vertical-align: top\">obama</td>\n",
       "        <td style=\"padding-left: 1em; padding-right: 1em; text-align: center; vertical-align: top\">43.2771138343</td>\n",
       "    </tr>\n",
       "    <tr>\n",
       "        <td style=\"padding-left: 1em; padding-right: 1em; text-align: center; vertical-align: top\">act</td>\n",
       "        <td style=\"padding-left: 1em; padding-right: 1em; text-align: center; vertical-align: top\">27.6740511879</td>\n",
       "    </tr>\n",
       "    <tr>\n",
       "        <td style=\"padding-left: 1em; padding-right: 1em; text-align: center; vertical-align: top\">iraq</td>\n",
       "        <td style=\"padding-left: 1em; padding-right: 1em; text-align: center; vertical-align: top\">17.7417279313</td>\n",
       "    </tr>\n",
       "    <tr>\n",
       "        <td style=\"padding-left: 1em; padding-right: 1em; text-align: center; vertical-align: top\">control</td>\n",
       "        <td style=\"padding-left: 1em; padding-right: 1em; text-align: center; vertical-align: top\">14.8843303784</td>\n",
       "    </tr>\n",
       "    <tr>\n",
       "        <td style=\"padding-left: 1em; padding-right: 1em; text-align: center; vertical-align: top\">law</td>\n",
       "        <td style=\"padding-left: 1em; padding-right: 1em; text-align: center; vertical-align: top\">14.7218558824</td>\n",
       "    </tr>\n",
       "    <tr>\n",
       "        <td style=\"padding-left: 1em; padding-right: 1em; text-align: center; vertical-align: top\">ordered</td>\n",
       "        <td style=\"padding-left: 1em; padding-right: 1em; text-align: center; vertical-align: top\">14.5269800512</td>\n",
       "    </tr>\n",
       "    <tr>\n",
       "        <td style=\"padding-left: 1em; padding-right: 1em; text-align: center; vertical-align: top\">military</td>\n",
       "        <td style=\"padding-left: 1em; padding-right: 1em; text-align: center; vertical-align: top\">13.1142031441</td>\n",
       "    </tr>\n",
       "    <tr>\n",
       "        <td style=\"padding-left: 1em; padding-right: 1em; text-align: center; vertical-align: top\">involvement</td>\n",
       "        <td style=\"padding-left: 1em; padding-right: 1em; text-align: center; vertical-align: top\">12.7808367465</td>\n",
       "    </tr>\n",
       "    <tr>\n",
       "        <td style=\"padding-left: 1em; padding-right: 1em; text-align: center; vertical-align: top\">response</td>\n",
       "        <td style=\"padding-left: 1em; padding-right: 1em; text-align: center; vertical-align: top\">12.7808367465</td>\n",
       "    </tr>\n",
       "    <tr>\n",
       "        <td style=\"padding-left: 1em; padding-right: 1em; text-align: center; vertical-align: top\">democratic</td>\n",
       "        <td style=\"padding-left: 1em; padding-right: 1em; text-align: center; vertical-align: top\">12.4092495367</td>\n",
       "    </tr>\n",
       "</table>\n",
       "[273 rows x 2 columns]<br/>Note: Only the head of the SFrame is printed.<br/>You can use print_rows(num_rows=m, num_columns=n) to print more rows and columns.\n",
       "</div>"
      ],
      "text/plain": [
       "Columns:\n",
       "\tfeature\tstr\n",
       "\ttfidf\tfloat\n",
       "\n",
       "Rows: 273\n",
       "\n",
       "Data:\n",
       "+-------------+---------------+\n",
       "|   feature   |     tfidf     |\n",
       "+-------------+---------------+\n",
       "|    obama    | 43.2771138343 |\n",
       "|     act     | 27.6740511879 |\n",
       "|     iraq    | 17.7417279313 |\n",
       "|   control   | 14.8843303784 |\n",
       "|     law     | 14.7218558824 |\n",
       "|   ordered   | 14.5269800512 |\n",
       "|   military  | 13.1142031441 |\n",
       "| involvement | 12.7808367465 |\n",
       "|   response  | 12.7808367465 |\n",
       "|  democratic | 12.4092495367 |\n",
       "+-------------+---------------+\n",
       "[273 rows x 2 columns]\n",
       "Note: Only the head of the SFrame is printed.\n",
       "You can use print_rows(num_rows=m, num_columns=n) to print more rows and columns."
      ]
     },
     "execution_count": 27,
     "metadata": {},
     "output_type": "execute_result"
    }
   ],
   "source": [
    "sf.SFrame({'feature':word_scores.keys(), 'tfidf':word_scores.values()}).sort('tfidf', ascending=False)"
   ]
  },
  {
   "cell_type": "markdown",
   "metadata": {},
   "source": [
    "O resultado foi praticamente igual."
   ]
  },
  {
   "cell_type": "markdown",
   "metadata": {},
   "source": [
    "##Calculando distâncias manualmente"
   ]
  },
  {
   "cell_type": "code",
   "execution_count": 28,
   "metadata": {
    "collapsed": true
   },
   "outputs": [],
   "source": [
    "from sklearn.metrics.pairwise import cosine_similarity\n",
    "clinton = people[people['name'] == 'Bill Clinton']\n",
    "beckham = people[people['name'] == 'David Beckham']"
   ]
  },
  {
   "cell_type": "markdown",
   "metadata": {},
   "source": [
    "###Comparando Obama com Bill Clinton"
   ]
  },
  {
   "cell_type": "code",
   "execution_count": 29,
   "metadata": {
    "collapsed": false
   },
   "outputs": [
    {
     "data": {
      "text/plain": [
       "array([[ 0.16717846]])"
      ]
     },
     "execution_count": 29,
     "metadata": {},
     "output_type": "execute_result"
    }
   ],
   "source": [
    "cosine_similarity(dtm[obama_index], dtm[people_indexes[clinton['name'][0]]])"
   ]
  },
  {
   "cell_type": "code",
   "execution_count": 30,
   "metadata": {
    "collapsed": false
   },
   "outputs": [
    {
     "data": {
      "text/plain": [
       "array([[ 0.02105755]])"
      ]
     },
     "execution_count": 30,
     "metadata": {},
     "output_type": "execute_result"
    }
   ],
   "source": [
    "cosine_similarity(dtm[obama_index], dtm[people_indexes[beckham['name'][0]]])"
   ]
  },
  {
   "cell_type": "markdown",
   "metadata": {},
   "source": [
    "Essa fórmula é para calcular a similaridade. Diferente da distância que estava sendo calculada na leitura."
   ]
  },
  {
   "cell_type": "code",
   "execution_count": 31,
   "metadata": {
    "collapsed": true
   },
   "outputs": [],
   "source": [
    "from sklearn.metrics.pairwise import pairwise_distances"
   ]
  },
  {
   "cell_type": "code",
   "execution_count": 32,
   "metadata": {
    "collapsed": false
   },
   "outputs": [
    {
     "data": {
      "text/plain": [
       "array([[ 0.83282154]])"
      ]
     },
     "execution_count": 32,
     "metadata": {},
     "output_type": "execute_result"
    }
   ],
   "source": [
    "pairwise_distances(dtm[obama_index], dtm[people_indexes[clinton['name'][0]]], metric='cosine')"
   ]
  },
  {
   "cell_type": "code",
   "execution_count": 33,
   "metadata": {
    "collapsed": false
   },
   "outputs": [
    {
     "data": {
      "text/plain": [
       "array([[ 0.97894245]])"
      ]
     },
     "execution_count": 33,
     "metadata": {},
     "output_type": "execute_result"
    }
   ],
   "source": [
    "pairwise_distances(dtm[obama_index], dtm[people_indexes[beckham['name'][0]]], metric='cosine')"
   ]
  },
  {
   "cell_type": "markdown",
   "metadata": {},
   "source": [
    "Dessa forma o cálculo é em cima da distância, igual o graphlab."
   ]
  },
  {
   "cell_type": "markdown",
   "metadata": {},
   "source": [
    "##Construindo um modelo de busca com nearest neighbor"
   ]
  },
  {
   "cell_type": "code",
   "execution_count": 113,
   "metadata": {
    "collapsed": false
   },
   "outputs": [],
   "source": [
    "from sklearn.neighbors import NearestNeighbors\n",
    "\n",
    "# 10 é o padrão para a nossa busca\n",
    "knn_model = NearestNeighbors(n_neighbors=10, algorithm='brute', metric='cosine')"
   ]
  },
  {
   "cell_type": "code",
   "execution_count": 114,
   "metadata": {
    "collapsed": false
   },
   "outputs": [
    {
     "data": {
      "text/plain": [
       "NearestNeighbors(algorithm='brute', leaf_size=30, metric='cosine',\n",
       "         metric_params=None, n_neighbors=10, p=2, radius=1.0)"
      ]
     },
     "execution_count": 114,
     "metadata": {},
     "output_type": "execute_result"
    }
   ],
   "source": [
    "knn_model.fit(dtm)"
   ]
  },
  {
   "cell_type": "markdown",
   "metadata": {},
   "source": [
    "A métrica do graphlab é a jaccard, mas não consegui adotar aqui. Talvez tenha diferenças."
   ]
  },
  {
   "cell_type": "markdown",
   "metadata": {},
   "source": [
    "###Quem se parece com Obama"
   ]
  },
  {
   "cell_type": "code",
   "execution_count": 115,
   "metadata": {
    "collapsed": true
   },
   "outputs": [],
   "source": [
    "distances, indexes = knn_model.kneighbors(dtm[obama_index], return_distance=True)"
   ]
  },
  {
   "cell_type": "code",
   "execution_count": 116,
   "metadata": {
    "collapsed": false
   },
   "outputs": [
    {
     "data": {
      "text/plain": [
       "array([[ -2.22044605e-16,   7.00218808e-01,   7.39882079e-01,\n",
       "          7.56760137e-01,   7.68340645e-01,   7.83188893e-01,\n",
       "          7.85581800e-01,   7.89380387e-01,   7.94203304e-01,\n",
       "          7.96521715e-01]])"
      ]
     },
     "execution_count": 116,
     "metadata": {},
     "output_type": "execute_result"
    }
   ],
   "source": [
    "distances"
   ]
  },
  {
   "cell_type": "code",
   "execution_count": 117,
   "metadata": {
    "collapsed": false
   },
   "outputs": [
    {
     "data": {
      "text/plain": [
       "array([[35817, 24478, 38376, 57108, 38714, 46140,  6796, 44681,  2412,\n",
       "        18827]], dtype=int64)"
      ]
     },
     "execution_count": 117,
     "metadata": {},
     "output_type": "execute_result"
    }
   ],
   "source": [
    "indexes"
   ]
  },
  {
   "cell_type": "code",
   "execution_count": 118,
   "metadata": {
    "collapsed": false
   },
   "outputs": [
    {
     "data": {
      "text/plain": [
       "[('Barack Obama', -2.2204460492503131e-16),\n",
       " ('Joe Biden', 0.70021880814603654),\n",
       " ('Samantha Power', 0.73988207917530502),\n",
       " ('Hillary Rodham Clinton', 0.75676013717284951),\n",
       " ('Eric Stern (politician)', 0.76834064491645526),\n",
       " ('Robert Gibbs', 0.78318889324225549),\n",
       " ('Eric Holder', 0.78558179962256047),\n",
       " ('Jesse Lee (politician)', 0.78938038724942206),\n",
       " ('Joe the Plumber', 0.79420330436841446),\n",
       " ('Henry Waxman', 0.79652171471109146)]"
      ]
     },
     "execution_count": 118,
     "metadata": {},
     "output_type": "execute_result"
    }
   ],
   "source": [
    "zip(np.array(people['name'])[indexes][0], distances[0])"
   ]
  },
  {
   "cell_type": "markdown",
   "metadata": {},
   "source": [
    "###Outro exemplo de busca"
   ]
  },
  {
   "cell_type": "code",
   "execution_count": 119,
   "metadata": {
    "collapsed": false
   },
   "outputs": [],
   "source": [
    "swift = people_indexes['Taylor Swift']"
   ]
  },
  {
   "cell_type": "code",
   "execution_count": 120,
   "metadata": {
    "collapsed": true
   },
   "outputs": [],
   "source": [
    "distances, indexes = knn_model.kneighbors(dtm[swift], return_distance=True)"
   ]
  },
  {
   "cell_type": "code",
   "execution_count": 121,
   "metadata": {
    "collapsed": false
   },
   "outputs": [
    {
     "data": {
      "text/plain": [
       "[('Taylor Swift', -4.4408920985006262e-16),\n",
       " ('Al Swift', 0.69557155409410787),\n",
       " ('Bill Swift', 0.71055621155743476),\n",
       " ('Ed Sheeran', 0.73419103416238751),\n",
       " ('Carrie Underwood', 0.73498039335105592),\n",
       " ('Kelly Clarkson', 0.74446181308194848),\n",
       " ('Joss Stone', 0.75135082840345324),\n",
       " ('Adele', 0.75301338937384632),\n",
       " ('Charles Swift', 0.75749046937832865),\n",
       " ('Dolly Parton', 0.75775826355232656)]"
      ]
     },
     "execution_count": 121,
     "metadata": {},
     "output_type": "execute_result"
    }
   ],
   "source": [
    "zip(np.array(people['name'])[indexes][0], distances[0])"
   ]
  },
  {
   "cell_type": "code",
   "execution_count": 122,
   "metadata": {
    "collapsed": true
   },
   "outputs": [],
   "source": [
    "jolie = people_indexes['Angelina Jolie']"
   ]
  },
  {
   "cell_type": "code",
   "execution_count": 123,
   "metadata": {
    "collapsed": false
   },
   "outputs": [],
   "source": [
    "distances, indexes = knn_model.kneighbors(dtm[jolie], return_distance=True)"
   ]
  },
  {
   "cell_type": "code",
   "execution_count": 124,
   "metadata": {
    "collapsed": false
   },
   "outputs": [
    {
     "data": {
      "text/plain": [
       "[('Angelina Jolie', -6.6613381477509392e-16),\n",
       " ('Brad Pitt', 0.72727055579119526),\n",
       " ('Barbara Hershey', 0.7584718018152462),\n",
       " ('Keith Jolie', 0.76830819748163226),\n",
       " ('Julianne Moore', 0.77350703243189289),\n",
       " ('Glenn Close', 0.7759737565670155),\n",
       " ('Jodie Foster', 0.7763546404548014),\n",
       " ('Maggie Smith', 0.778734534206172),\n",
       " ('Jessica Chastain', 0.78272706820027049),\n",
       " ('Amy Adams', 0.78479786765342263)]"
      ]
     },
     "execution_count": 124,
     "metadata": {},
     "output_type": "execute_result"
    }
   ],
   "source": [
    "zip(np.array(people['name'])[indexes][0], distances[0])"
   ]
  },
  {
   "cell_type": "code",
   "execution_count": 125,
   "metadata": {
    "collapsed": true
   },
   "outputs": [],
   "source": [
    "arnold = people_indexes['Arnold Schwarzenegger']"
   ]
  },
  {
   "cell_type": "code",
   "execution_count": 126,
   "metadata": {
    "collapsed": true
   },
   "outputs": [],
   "source": [
    "distances, indexes = knn_model.kneighbors(dtm[arnold], return_distance=True)"
   ]
  },
  {
   "cell_type": "code",
   "execution_count": 127,
   "metadata": {
    "collapsed": false
   },
   "outputs": [
    {
     "data": {
      "text/plain": [
       "[('Arnold Schwarzenegger', 0.0),\n",
       " ('Bonnie Garcia', 0.79040782539582932),\n",
       " ('Paul Grant (bodybuilder)', 0.80072788303174369),\n",
       " ('James Tramel', 0.82555589689478581),\n",
       " ('Gray Davis', 0.83666161900306935),\n",
       " ('Abel Maldonado', 0.83899912160868562),\n",
       " ('Bruce McPherson', 0.84606318818749648),\n",
       " ('David Israel', 0.84638740807705271),\n",
       " ('Charlene Zettel', 0.84759491450179236),\n",
       " ('Peter Pilz', 0.85341425371916302)]"
      ]
     },
     "execution_count": 127,
     "metadata": {},
     "output_type": "execute_result"
    }
   ],
   "source": [
    "zip(np.array(people['name'])[indexes][0], distances[0])"
   ]
  },
  {
   "cell_type": "markdown",
   "metadata": {},
   "source": [
    "#Exercícios\n",
    "##Exercício 1"
   ]
  },
  {
   "cell_type": "code",
   "execution_count": 128,
   "metadata": {
    "collapsed": false
   },
   "outputs": [
    {
     "data": {
      "text/html": [
       "<div style=\"max-height:1000px;max-width:1500px;overflow:auto;\"><table frame=\"box\" rules=\"cols\">\n",
       "    <tr>\n",
       "        <th style=\"padding-left: 1em; padding-right: 1em; text-align: center\">word</th>\n",
       "        <th style=\"padding-left: 1em; padding-right: 1em; text-align: center\">count</th>\n",
       "    </tr>\n",
       "    <tr>\n",
       "        <td style=\"padding-left: 1em; padding-right: 1em; text-align: center; vertical-align: top\">the</td>\n",
       "        <td style=\"padding-left: 1em; padding-right: 1em; text-align: center; vertical-align: top\">27</td>\n",
       "    </tr>\n",
       "    <tr>\n",
       "        <td style=\"padding-left: 1em; padding-right: 1em; text-align: center; vertical-align: top\">in</td>\n",
       "        <td style=\"padding-left: 1em; padding-right: 1em; text-align: center; vertical-align: top\">18</td>\n",
       "    </tr>\n",
       "    <tr>\n",
       "        <td style=\"padding-left: 1em; padding-right: 1em; text-align: center; vertical-align: top\">and</td>\n",
       "        <td style=\"padding-left: 1em; padding-right: 1em; text-align: center; vertical-align: top\">15</td>\n",
       "    </tr>\n",
       "</table>\n",
       "[3 rows x 2 columns]<br/>\n",
       "</div>"
      ],
      "text/plain": [
       "Columns:\n",
       "\tword\tstr\n",
       "\tcount\tint\n",
       "\n",
       "Rows: 3\n",
       "\n",
       "Data:\n",
       "+------+-------+\n",
       "| word | count |\n",
       "+------+-------+\n",
       "| the  |   27  |\n",
       "|  in  |   18  |\n",
       "| and  |   15  |\n",
       "+------+-------+\n",
       "[3 rows x 2 columns]"
      ]
     },
     "execution_count": 128,
     "metadata": {},
     "output_type": "execute_result"
    }
   ],
   "source": [
    "elton_john = people[people['name'] == 'Elton John']\n",
    "elton_john['word_count'] = count_words(elton_john['text'])\n",
    "elton_john[['word_count']].stack('word_count', new_column_name = ['word','count']).sort('count',ascending=False).head(3)"
   ]
  },
  {
   "cell_type": "code",
   "execution_count": 130,
   "metadata": {
    "collapsed": false
   },
   "outputs": [],
   "source": [
    "word_count_vect = CountVectorizer(token_pattern=ur'(?u)\\b\\w+\\w*\\b', stop_words=[])\n",
    "word_count_vect.fit(elton_john['text'])\n",
    "vocab = word_count_vect.get_feature_names()"
   ]
  },
  {
   "cell_type": "code",
   "execution_count": 131,
   "metadata": {
    "collapsed": false
   },
   "outputs": [
    {
     "name": "stdout",
     "output_type": "stream",
     "text": [
      "[u'1', u'10', u'100', u'1947', u'1967', u'19702000', u'1976', u'1980s', u'1988', u'1992', u'1994', u'1996', u'1997', u'1998', u'2', u'200', u'2002', u'2004', u'2005', u'2008', u'2012he', u'2013', u'2014', u'21', u'25', u'27', u'30', u'300', u'31', u'33', u'40', u'49', u'58', u'a', u'abbey', u'about', u'academy', u'actor', u'after', u'against', u'aids', u'albums', u'all', u'alltime', u'an', u'and', u'announced', u'annual', u'artist', u'artists', u'as', u'at', u'authors', u'award', u'awards', u'be', u'became', u'become', u'been', u'began', u'bernie', u'bestselling', u'billboard', u'bisexual', u'born', u'brit', u'british', u'brits', u'buckingham', u'career', u'cbe', u'center', u'champion', u'charitable', u'civil', u'collaborated', u'commander', u'composer', u'composers', u'concert', u'consecutive', u'continues', u'contribution', u'copies', u'culture', u'datein', u'david', u'december', u'diamond', u'diana', u'disney', u'dwight', u'elizabeth', u'elton', u'empire', u'england', u'english', u'entered', u'era', u'established', u'events', u'fame', u'fellow', u'fifty', u'fight', u'film', u'first', u'five', u'fivedecade', u'for', u'foundation', u'four', u'from', u'funeral', u'furnish', u'gay', u'globe', u'golden', u'grammy', u'had', u'hall', u'has', u'have', u'having', u'he', u'heavily', u'hercules', u'highestprofile', u'him', u'his', u'hits', u'hollywood', u'honors', u'hosting', u'hot', u'icon', u'ii', u'impact', u'in', u'inception', u'including', u'inducted', u'inductee', u'industry', u'influential', u'into', u'involved', u'is', u'its', u'john', u'jubilee', u'kennedy', u'kenneth', u'knighthood', u'lasting', u'late', u'later', u'least', u'legal', u'legend', u'lgbt', u'list', u'look', u'lyricist', u'making', u'male', u'march', u'marriage', u'million', u'more', u'most', u'movements', u'music', u'musicians', u'named', u'nine', u'no', u'number', u'occasional', u'of', u'on', u'one', u'openly', u'order', u'oscar', u'outside', u'outstanding', u'over', u'overallelton', u'palace', u'parties', u'partner', u'partnership', u'party', u'performed', u'pianist', u'princess', u'producer', u'queens', u'raised', u'ranked', u'received', u'record', u'records', u'reginald', u'rock', u'roll', u'rolling', u'royal', u'samesex', u'services', u'seven', u'since', u'singer', u'single', u'singles', u'sir', u'six', u'social', u'sold', u'solo', u'something', u'song', u'songwriter', u'songwriters', u'stone', u'successful', u'such', u'taupin', u'than', u'the', u'they', u'third', u'time', u'to', u'tonightcandle', u'tony', u'top', u'two', u'us', u'was', u'way', u'wed', u'westminster', u'which', u'who', u'wind', u'winning', u'with', u'worked', u'world', u'worldwide', u'year', u'years', u'you']\n"
     ]
    }
   ],
   "source": [
    "print vocab"
   ]
  },
  {
   "cell_type": "code",
   "execution_count": 132,
   "metadata": {
    "collapsed": false
   },
   "outputs": [],
   "source": [
    "word_scores = {}\n",
    "for word in vocab :\n",
    "    if word in features :\n",
    "        word_scores[word] = dtm[people_indexes[elton_john['name'][0]], features.index(word)]"
   ]
  },
  {
   "cell_type": "code",
   "execution_count": 133,
   "metadata": {
    "collapsed": false
   },
   "outputs": [
    {
     "data": {
      "text/html": [
       "<div style=\"max-height:1000px;max-width:1500px;overflow:auto;\"><table frame=\"box\" rules=\"cols\">\n",
       "    <tr>\n",
       "        <th style=\"padding-left: 1em; padding-right: 1em; text-align: center\">feature</th>\n",
       "        <th style=\"padding-left: 1em; padding-right: 1em; text-align: center\">tfidf</th>\n",
       "    </tr>\n",
       "    <tr>\n",
       "        <td style=\"padding-left: 1em; padding-right: 1em; text-align: center; vertical-align: top\">furnish</td>\n",
       "        <td style=\"padding-left: 1em; padding-right: 1em; text-align: center; vertical-align: top\">18.0812043376</td>\n",
       "    </tr>\n",
       "    <tr>\n",
       "        <td style=\"padding-left: 1em; padding-right: 1em; text-align: center; vertical-align: top\">elton</td>\n",
       "        <td style=\"padding-left: 1em; padding-right: 1em; text-align: center; vertical-align: top\">17.4651790318</td>\n",
       "    </tr>\n",
       "    <tr>\n",
       "        <td style=\"padding-left: 1em; padding-right: 1em; text-align: center; vertical-align: top\">billboard</td>\n",
       "        <td style=\"padding-left: 1em; padding-right: 1em; text-align: center; vertical-align: top\">17.2986303093</td>\n",
       "    </tr>\n",
       "</table>\n",
       "[3 rows x 2 columns]<br/>\n",
       "</div>"
      ],
      "text/plain": [
       "Columns:\n",
       "\tfeature\tstr\n",
       "\ttfidf\tfloat\n",
       "\n",
       "Rows: 3\n",
       "\n",
       "Data:\n",
       "+-----------+---------------+\n",
       "|  feature  |     tfidf     |\n",
       "+-----------+---------------+\n",
       "|  furnish  | 18.0812043376 |\n",
       "|   elton   | 17.4651790318 |\n",
       "| billboard | 17.2986303093 |\n",
       "+-----------+---------------+\n",
       "[3 rows x 2 columns]"
      ]
     },
     "execution_count": 133,
     "metadata": {},
     "output_type": "execute_result"
    }
   ],
   "source": [
    "sf.SFrame({'feature':word_scores.keys(), 'tfidf':word_scores.values()}).sort('tfidf', ascending=False).head(3)"
   ]
  },
  {
   "cell_type": "markdown",
   "metadata": {},
   "source": [
    "##Exercício 2"
   ]
  },
  {
   "cell_type": "code",
   "execution_count": 134,
   "metadata": {
    "collapsed": true
   },
   "outputs": [],
   "source": [
    "elton_john = people_indexes['Elton John']\n",
    "victoria_beckham = people_indexes['Victoria Beckham']\n",
    "paul_mccartney = people_indexes['Paul McCartney']"
   ]
  },
  {
   "cell_type": "code",
   "execution_count": 135,
   "metadata": {
    "collapsed": false
   },
   "outputs": [
    {
     "data": {
      "text/plain": [
       "array([[ 0.95627812]])"
      ]
     },
     "execution_count": 135,
     "metadata": {},
     "output_type": "execute_result"
    }
   ],
   "source": [
    "pairwise_distances(dtm[elton_john], dtm[victoria_beckham], metric='cosine')"
   ]
  },
  {
   "cell_type": "code",
   "execution_count": 136,
   "metadata": {
    "collapsed": false
   },
   "outputs": [
    {
     "data": {
      "text/plain": [
       "array([[ 0.82303776]])"
      ]
     },
     "execution_count": 136,
     "metadata": {},
     "output_type": "execute_result"
    }
   ],
   "source": [
    "pairwise_distances(dtm[elton_john], dtm[paul_mccartney], metric='cosine')"
   ]
  },
  {
   "cell_type": "markdown",
   "metadata": {},
   "source": [
    "##Exercício 3"
   ]
  },
  {
   "cell_type": "code",
   "execution_count": 137,
   "metadata": {
    "collapsed": true
   },
   "outputs": [],
   "source": [
    "# 10 é o padrão para a nossa busca\n",
    "knn_word_count_model = NearestNeighbors(n_neighbors=10, algorithm='brute', metric='cosine')"
   ]
  },
  {
   "cell_type": "code",
   "execution_count": 138,
   "metadata": {
    "collapsed": false
   },
   "outputs": [
    {
     "data": {
      "text/plain": [
       "NearestNeighbors(algorithm='brute', leaf_size=30, metric='cosine',\n",
       "         metric_params=None, n_neighbors=10, p=2, radius=1.0)"
      ]
     },
     "execution_count": 138,
     "metadata": {},
     "output_type": "execute_result"
    }
   ],
   "source": [
    "word_count_dtm = word_count_vect.fit_transform(people['text'])\n",
    "knn_word_count_model.fit(word_count_dtm)"
   ]
  },
  {
   "cell_type": "code",
   "execution_count": 139,
   "metadata": {
    "collapsed": true
   },
   "outputs": [],
   "source": [
    "knn_tfidf_model = NearestNeighbors(n_neighbors=10, algorithm='brute', metric='cosine')"
   ]
  },
  {
   "cell_type": "code",
   "execution_count": 140,
   "metadata": {
    "collapsed": false
   },
   "outputs": [
    {
     "data": {
      "text/plain": [
       "NearestNeighbors(algorithm='brute', leaf_size=30, metric='cosine',\n",
       "         metric_params=None, n_neighbors=10, p=2, radius=1.0)"
      ]
     },
     "execution_count": 140,
     "metadata": {},
     "output_type": "execute_result"
    }
   ],
   "source": [
    "knn_tfidf_model.fit(dtm)"
   ]
  },
  {
   "cell_type": "code",
   "execution_count": 141,
   "metadata": {
    "collapsed": false
   },
   "outputs": [
    {
     "data": {
      "text/plain": [
       "[('Elton John', 3.8857805861880479e-15),\n",
       " ('Cliff Richard', 0.16142415258967147),\n",
       " ('Sandro Petrone', 0.16822542751041136),\n",
       " ('Rod Stewart', 0.16832716558706295),\n",
       " (\"Malachi O'Doherty\", 0.17731554597888477),\n",
       " ('Roger Daltrey', 0.17755418466559625),\n",
       " ('Peter Paret', 0.18073483740345253),\n",
       " ('Mervyn Burtch', 0.18199014026300275),\n",
       " ('Chris Chivers', 0.18307331290028128),\n",
       " ('Dejan Bogdanovi%C4%87', 0.18498947345396433)]"
      ]
     },
     "execution_count": 141,
     "metadata": {},
     "output_type": "execute_result"
    }
   ],
   "source": [
    "distances, indexes = knn_word_count_model.kneighbors(word_count_dtm[elton_john], return_distance=True)\n",
    "zip(np.array(people['name'])[indexes][0], distances[0])"
   ]
  },
  {
   "cell_type": "code",
   "execution_count": 142,
   "metadata": {
    "collapsed": false
   },
   "outputs": [
    {
     "data": {
      "text/plain": [
       "[('Elton John', 0.0),\n",
       " ('Rod Stewart', 0.71478081829713858),\n",
       " ('George Michael', 0.74386348790100887),\n",
       " ('Sting (musician)', 0.74591703816380051),\n",
       " ('Phil Collins', 0.74892363511189264),\n",
       " ('Kelly Clarkson', 0.75949313919190409),\n",
       " ('Usher (entertainer)', 0.76155030724738049),\n",
       " ('Adele', 0.76837553189708629),\n",
       " ('Billy Joel', 0.77019953059903412),\n",
       " ('Jay Sean', 0.77345010392920555)]"
      ]
     },
     "execution_count": 142,
     "metadata": {},
     "output_type": "execute_result"
    }
   ],
   "source": [
    "distances, indexes = knn_tfidf_model.kneighbors(dtm[elton_john], return_distance=True)\n",
    "zip(np.array(people['name'])[indexes][0], distances[0])"
   ]
  },
  {
   "cell_type": "code",
   "execution_count": 143,
   "metadata": {
    "collapsed": false
   },
   "outputs": [
    {
     "data": {
      "text/plain": [
       "[('Victoria Beckham', 8.8817841970012523e-16),\n",
       " ('Mary Fitzgerald (artist)', 0.20730703611505041),\n",
       " ('Adrienne Corri', 0.21450978278754773),\n",
       " ('Beverly Jane Fry', 0.21746646874079267),\n",
       " ('Raman Mundair', 0.21769547499150477),\n",
       " ('Jacqueline de Jong', 0.22257421573069613),\n",
       " ('Terese Capucilli', 0.22436548649175403),\n",
       " ('Phamie Gow', 0.22473751935931308),\n",
       " ('Raylawni Branch', 0.22504802403400026),\n",
       " ('Carrie Reichardt', 0.22507653712165565)]"
      ]
     },
     "execution_count": 143,
     "metadata": {},
     "output_type": "execute_result"
    }
   ],
   "source": [
    "distances, indexes = knn_word_count_model.kneighbors(word_count_dtm[victoria_beckham], return_distance=True)\n",
    "zip(np.array(people['name'])[indexes][0], distances[0])"
   ]
  },
  {
   "cell_type": "code",
   "execution_count": 144,
   "metadata": {
    "collapsed": false
   },
   "outputs": [
    {
     "data": {
      "text/plain": [
       "[('Victoria Beckham', -2.2204460492503131e-16),\n",
       " ('David Beckham', 0.54650832839192609),\n",
       " ('Stephen Dow Beckham', 0.78366699101179527),\n",
       " ('Mel B', 0.80826274980545476),\n",
       " ('Caroline Rush', 0.81817397589660301),\n",
       " ('Louis Molloy', 0.82031643436901247),\n",
       " ('Angelique Westerhof', 0.82641442761715445),\n",
       " ('Wal%C3%A9 Adeyemi', 0.83129042845866019),\n",
       " ('Mona al Mansouri', 0.83139048878752586),\n",
       " ('Zurain Imam', 0.83459838035755984)]"
      ]
     },
     "execution_count": 144,
     "metadata": {},
     "output_type": "execute_result"
    }
   ],
   "source": [
    "distances, indexes = knn_tfidf_model.kneighbors(dtm[victoria_beckham], return_distance=True)\n",
    "zip(np.array(people['name'])[indexes][0], distances[0])"
   ]
  },
  {
   "cell_type": "code",
   "execution_count": null,
   "metadata": {
    "collapsed": true
   },
   "outputs": [],
   "source": []
  }
 ],
 "metadata": {
  "kernelspec": {
   "display_name": "Python 2",
   "language": "python",
   "name": "python2"
  },
  "language_info": {
   "codemirror_mode": {
    "name": "ipython",
    "version": 2
   },
   "file_extension": ".py",
   "mimetype": "text/x-python",
   "name": "python",
   "nbconvert_exporter": "python",
   "pygments_lexer": "ipython2",
   "version": "2.7.10"
  }
 },
 "nbformat": 4,
 "nbformat_minor": 0
}
